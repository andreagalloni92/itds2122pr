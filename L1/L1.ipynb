{
 "cells": [
  {
   "cell_type": "markdown",
   "id": "3c84cafa",
   "metadata": {},
   "source": [
    "# Introduction to Data Science Pr. 1 \n",
    "__Budapest 2021__, **Fall Semester**"
   ]
  },
  {
   "cell_type": "code",
   "execution_count": 2,
   "id": "d8082be4",
   "metadata": {},
   "outputs": [],
   "source": [
    "# Introduction to Data Science Pr. 1 "
   ]
  },
  {
   "cell_type": "code",
   "execution_count": 209,
   "id": "219bec6f",
   "metadata": {},
   "outputs": [
    {
     "name": "stdout",
     "output_type": "stream",
     "text": [
      "Hello Python!\n"
     ]
    },
    {
     "data": {
      "text/plain": [
       "'\\n    Multi\\n    Line \\n    Comment\\n    \\n'"
      ]
     },
     "execution_count": 209,
     "metadata": {},
     "output_type": "execute_result"
    }
   ],
   "source": [
    "print(\"Hello Python!\") # comment pep8 code style standard \n",
    "\"\"\"\n",
    "    Multi\n",
    "    Line \n",
    "    Comment\n",
    "    \n",
    "\"\"\"\n"
   ]
  },
  {
   "cell_type": "code",
   "execution_count": 5,
   "id": "d59c18aa",
   "metadata": {},
   "outputs": [
    {
     "name": "stdout",
     "output_type": "stream",
     "text": [
      "2021 Budapest\n"
     ]
    }
   ],
   "source": [
    "a = 2021\n",
    "b = \"Budapest\"\n",
    "print(a,b)"
   ]
  },
  {
   "cell_type": "code",
   "execution_count": 10,
   "id": "cd90378d",
   "metadata": {},
   "outputs": [
    {
     "name": "stdout",
     "output_type": "stream",
     "text": [
      "Budapest 2021\n"
     ]
    }
   ],
   "source": [
    "type(a)\n",
    "b = 2021\n",
    "type(b)\n",
    "a = \"Budapest\"\n",
    "print(a,b)\n"
   ]
  },
  {
   "cell_type": "code",
   "execution_count": 15,
   "id": "9956d7e1",
   "metadata": {},
   "outputs": [
    {
     "name": "stdout",
     "output_type": "stream",
     "text": [
      "a: 2021 b: Budapest\n",
      "a: Budapest b: 2021\n",
      "True <class 'bool'>\n"
     ]
    }
   ],
   "source": [
    "print(\"a:\",a,\"b:\",b)\n",
    "a,b = b,a\n",
    "print(\"a:\",a,\"b:\",b)\n",
    "tboooolean = True\n",
    "fboooolean = False\n",
    "print(tboooolean, type(tboooolean))"
   ]
  },
  {
   "cell_type": "code",
   "execution_count": 23,
   "id": "4e02c040",
   "metadata": {},
   "outputs": [
    {
     "name": "stdout",
     "output_type": "stream",
     "text": [
      "8 False\n"
     ]
    }
   ],
   "source": [
    "#Legal variable names:\n",
    "myvar = \"Arthur\"\n",
    "my_var = \"Arthur\"\n",
    "_my_var = \"Arthur\"\n",
    "myVar = \"Arthur\"\n",
    "MYVAR = \"Arthur\"\n",
    "myvar2 = \"Arthur\"\n",
    "#Illegal variable names:\n",
    "# 2myvar = \"Arthur\"\n",
    "# my-var = \"Arthur\"\n",
    "# my var = \"Arthur\"\n",
    "c,d = 8,False\n",
    "print(c,d)"
   ]
  },
  {
   "cell_type": "code",
   "execution_count": 52,
   "id": "ffeec0f5",
   "metadata": {},
   "outputs": [
    {
     "name": "stdout",
     "output_type": "stream",
     "text": [
      "This is an external variable! and internal variable!\n",
      "smth else\n"
     ]
    }
   ],
   "source": [
    "# how to define a function in Python? \n",
    "\n",
    "x = \"external variable!\"\n",
    "\n",
    "def myFunction() -> None:\n",
    "    global x\n",
    "    y = \"internal variable!\"\n",
    "#     print('This is an {}'.format(x))\n",
    "#     print('This is an {}'.format(y))\n",
    "    print('This is an {str2} and {str1}'.format(str1=y, str2=x))\n",
    "    x = \"smth else\"\n",
    "\n",
    "#     print('This is an {}'.format(x))\n",
    "\n",
    "\n",
    "w = \"fuuuun!\"\n",
    "\n",
    "myFunction()\n",
    "\n",
    "print(x)\n"
   ]
  },
  {
   "cell_type": "code",
   "execution_count": 86,
   "id": "9d369a51",
   "metadata": {},
   "outputs": [
    {
     "name": "stdout",
     "output_type": "stream",
     "text": [
      "add 5\n",
      "mult 6\n",
      "floor div 0\n",
      "moodulus 2\n",
      "exp 8\n",
      "<class 'float'>\n",
      "8.4\n",
      "8\n",
      "<class 'str'>\n"
     ]
    }
   ],
   "source": [
    "7-.2\n",
    "a = 2\n",
    "b = 3\n",
    "type(a)\n",
    "type(b)\n",
    "print('add', a + b)\n",
    "print('mult' ,a * b)\n",
    "type(a + b)\n",
    "print('floor div', a//b)\n",
    "print('moodulus', a%b)\n",
    "print('exp', a**b)\n",
    "print(type(a/b))\n",
    "\n",
    "a = '8.4'\n",
    "print(float(a))\n",
    "a = '8'\n",
    "print(int(a))\n",
    "a = '8.3'\n",
    "# print(int(a)) generates an error: \"invalid literal for int() with base 10: '8.4'\"\n",
    "\n",
    "str(a)\n",
    "print(type(str(a)))"
   ]
  },
  {
   "cell_type": "code",
   "execution_count": 96,
   "id": "17fcafbd",
   "metadata": {},
   "outputs": [
    {
     "name": "stdout",
     "output_type": "stream",
     "text": [
      "140366611327760\n",
      "140366611327760\n"
     ]
    }
   ],
   "source": [
    "from ctypes import c_int, addressof\n",
    "a=8\n",
    "print(addressof(c_int(a)))\n",
    "a=9\n",
    "print(addressof(c_int(a)))"
   ]
  },
  {
   "cell_type": "code",
   "execution_count": 150,
   "id": "abcab97f",
   "metadata": {
    "scrolled": true
   },
   "outputs": [
    {
     "name": "stdout",
     "output_type": "stream",
     "text": [
      "[1, 0.2, 3, [1, 2, 3, 5], 'str']\n",
      "[1, 2, 3, 5]\n",
      "str\n",
      "[1, 0.2]\n",
      "[3, [1, 2, 3, 5], 'str']\n",
      "[3, [1, 2, 3, 5]]\n",
      "5\n",
      "[3, [1, 2, 3, 5], 'str']\n",
      "[3, 2, 1]\n",
      "[0, 1, 2, 3, 4, 5, 6, 7, 8, 9]\n",
      "[0, 'list str', 2, 3, 4, 5, 6, 7, 8, 9]\n",
      "[0, 2, 3, 4, 5, 6, 7, 8, 9]\n",
      "\n",
      "[0, 1, 2, 3, 4, 5, 6, 7, 8, 9]\n",
      "[-10, -9, -8, -7, -6, -5, -4, -3, -2, -1]\n",
      "[0, 1, 2, 3, 4, 5, 6, 7, 8, 9]\n",
      "[-10, -9, -8, 'list str', -6, -5, -4, -3, -2, -1]\n",
      "(2, 3, 'tuple')\n"
     ]
    },
    {
     "data": {
      "text/plain": [
       "'al'"
      ]
     },
     "execution_count": 150,
     "metadata": {},
     "output_type": "execute_result"
    }
   ],
   "source": [
    "a = [1,2,3,5]\n",
    "a\n",
    "list((1,2,3,5))\n",
    "a\n",
    "a = [1,.2,3, a, \"str\"]\n",
    "print(a)\n",
    "print(a[3])\n",
    "print(a[-1])\n",
    "print(a[:2])\n",
    "print(a[2:])\n",
    "print(a[2:4])\n",
    "print(len(a))\n",
    "print(a[2:8])\n",
    "\n",
    "a = [1,2,3,4,5]\n",
    "\n",
    "print(a[2::-1])\n",
    "\n",
    "a = [ x for x in range(10)]\n",
    "print(a)\n",
    "type(range(10))\n",
    "a[1] = \"list str\"\n",
    "print(a)\n",
    "a.pop(1)\n",
    "print(a)\n",
    "a = [ x for x in range(10)]\n",
    "b = [ x -10 for x in a ]\n",
    "\n",
    "print(\"\")\n",
    "\n",
    "print(a)\n",
    "print(b)\n",
    "b[3] = \"list str\"\n",
    "print(a)\n",
    "print(b)\n",
    "\n",
    "c = (1,2,3,\"tuple\")\n",
    "# c[1] = \"string\"\n",
    "print(c[1:])\n",
    "string = \"bal bla bla\"\n",
    "string[1:3]"
   ]
  },
  {
   "cell_type": "code",
   "execution_count": 162,
   "id": "125e9191",
   "metadata": {},
   "outputs": [
    {
     "name": "stdout",
     "output_type": "stream",
     "text": [
      "None\n"
     ]
    }
   ],
   "source": [
    "a = {'a':1, 'b':3}\n",
    "a['a']\n",
    "d = a.get('d')\n",
    "type(d)\n",
    "# in python null is called None\n",
    "a=None\n",
    "a.__repr__()\n",
    "print(a.__repr__())\n"
   ]
  },
  {
   "cell_type": "code",
   "execution_count": 175,
   "id": "e4097270",
   "metadata": {},
   "outputs": [
    {
     "name": "stdout",
     "output_type": "stream",
     "text": [
      "{1, 2, 3, 5, 6}\n",
      "{1, 2, 3}\n",
      "{7}\n",
      "{1, 2, 3, 5, 6, 7}\n",
      "{5, 6}\n",
      "{5, 6}\n"
     ]
    }
   ],
   "source": [
    "a = set([1,2,3,5,5,5,5,5,6])\n",
    "print(a)\n",
    "b = set([5,6,7])\n",
    "print(a - b)\n",
    "print(b - a)\n",
    "print(b.union(a))\n",
    "print(b & a)\n",
    "print(a & b)\n"
   ]
  },
  {
   "cell_type": "code",
   "execution_count": 194,
   "id": "9b7ba7f3",
   "metadata": {},
   "outputs": [
    {
     "name": "stdout",
     "output_type": "stream",
     "text": [
      "True\n",
      "False\n",
      "False\n",
      "False\n",
      "True\n",
      "True\n",
      "False\n",
      "False\n",
      "False\n",
      "True\n",
      "a is greater than b-19\n"
     ]
    }
   ],
   "source": [
    "a = 2\n",
    "b = 2\n",
    "print(a == b)\n",
    "print(a != b)\n",
    "print(a > b)\n",
    "print(a < b)\n",
    "print(a >= b)\n",
    "print(a <= b)\n",
    "print((a < 5) and (a < b))\n",
    "print((a > 5) and (a < b))\n",
    "print((a > 5) or (a < b))\n",
    "print( not ((a > 5) or (a < b)))\n",
    "\n",
    "if a < b:\n",
    "    print('a is smaller than b')\n",
    "elif a>b:\n",
    "    print('a is greater than b')\n",
    "elif a>(b-19):\n",
    "    print('a is greater than b-19')\n",
    "else:\n",
    "    print('a is equal to b')\n"
   ]
  },
  {
   "cell_type": "code",
   "execution_count": 203,
   "id": "de793367",
   "metadata": {
    "scrolled": true
   },
   "outputs": [
    {
     "name": "stdout",
     "output_type": "stream",
     "text": [
      "0\n",
      "2\n",
      "4\n",
      "6\n",
      "8\n",
      "10\n",
      "12\n",
      "14\n",
      "16\n",
      "18\n",
      "0\n",
      "2\n",
      "4\n",
      "6\n",
      "8\n",
      "10\n",
      "12\n",
      "14\n",
      "16\n",
      "18\n"
     ]
    }
   ],
   "source": [
    "a = [x*2 for x in range (10)]\n",
    "a\n",
    "\n",
    "for i in a:\n",
    "    print(i)\n",
    "    \n",
    "for i in range(len(a)):\n",
    "    print(a[i])\n",
    "    "
   ]
  },
  {
   "cell_type": "code",
   "execution_count": 206,
   "id": "d613eab5",
   "metadata": {
    "scrolled": false
   },
   "outputs": [
    {
     "name": "stdout",
     "output_type": "stream",
     "text": [
      "0\n",
      "2\n",
      "4\n",
      "6\n",
      "8\n",
      "10\n",
      "12\n",
      "14\n",
      "16\n",
      "18\n"
     ]
    }
   ],
   "source": [
    "i = 0\n",
    "while i < len(a):\n",
    "    print(a[i])\n",
    "    i += 1"
   ]
  }
 ],
 "metadata": {
  "kernelspec": {
   "display_name": "Python 3",
   "language": "python",
   "name": "python3"
  },
  "language_info": {
   "codemirror_mode": {
    "name": "ipython",
    "version": 3
   },
   "file_extension": ".py",
   "mimetype": "text/x-python",
   "name": "python",
   "nbconvert_exporter": "python",
   "pygments_lexer": "ipython3",
   "version": "3.8.8"
  }
 },
 "nbformat": 4,
 "nbformat_minor": 5
}
