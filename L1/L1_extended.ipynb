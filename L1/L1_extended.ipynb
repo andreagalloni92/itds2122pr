{
 "cells": [
  {
   "cell_type": "markdown",
   "source": [
    "# Introduction to Data Science L1\n",
    "## Quick Introduction to Python3.X\n",
    "__Budapest 2021.09.09__ (*Fall Semester*).\n",
    "\n",
    "**Notes:**\n",
    "Dear (quick) learner, feel free to go over this notebook and run the cells on your own. There are some cells containing several statements without using the print function, thus, I encourage you to comment and uncomment some of them to check the outputs of each statement within the same code-block. Also note that some blocks are going to throw some Errors/Exceptions, this is on purpose, read the error and try to understand what happened. ;)\n",
    "\n",
    "Main Source: [learnxinyminutes.com](https://learnxinyminutes.com/docs/python/)\n",
    "\n",
    "Regards,<br/>Andrea Galloni<br/>andrea.galloni@inf.elte.hu\n",
    "\n",
    "----"
   ],
   "metadata": {}
  },
  {
   "cell_type": "code",
   "execution_count": 348,
   "source": [
    "# Single line comments start with '#' symbol.\n",
    "\n",
    "\"\"\" Multiline strings can be written\n",
    "    using three \"s, and are often used\n",
    "    as documentation.\n",
    "\"\"\""
   ],
   "outputs": [
    {
     "output_type": "execute_result",
     "data": {
      "text/plain": [
       "' Multiline strings can be written\\n    using three \"s, and are often used\\n    as documentation.\\n'"
      ]
     },
     "metadata": {},
     "execution_count": 348
    }
   ],
   "metadata": {}
  },
  {
   "cell_type": "markdown",
   "source": [
    "## \\#1 Primitive Data Types and Operators"
   ],
   "metadata": {}
  },
  {
   "cell_type": "code",
   "execution_count": 349,
   "source": [
    "# You have numbers\n",
    "3  # => 3"
   ],
   "outputs": [
    {
     "output_type": "execute_result",
     "data": {
      "text/plain": [
       "3"
      ]
     },
     "metadata": {},
     "execution_count": 349
    }
   ],
   "metadata": {}
  },
  {
   "cell_type": "code",
   "execution_count": 350,
   "source": [
    "# Math is what you would expect\n",
    "1 + 1   # => 2"
   ],
   "outputs": [
    {
     "output_type": "execute_result",
     "data": {
      "text/plain": [
       "2"
      ]
     },
     "metadata": {},
     "execution_count": 350
    }
   ],
   "metadata": {}
  },
  {
   "cell_type": "code",
   "execution_count": 351,
   "source": [
    "8 - 1   # => 7"
   ],
   "outputs": [
    {
     "output_type": "execute_result",
     "data": {
      "text/plain": [
       "7"
      ]
     },
     "metadata": {},
     "execution_count": 351
    }
   ],
   "metadata": {}
  },
  {
   "cell_type": "code",
   "execution_count": 352,
   "source": [
    "10 * 2  # => 20"
   ],
   "outputs": [
    {
     "output_type": "execute_result",
     "data": {
      "text/plain": [
       "20"
      ]
     },
     "metadata": {},
     "execution_count": 352
    }
   ],
   "metadata": {}
  },
  {
   "cell_type": "code",
   "execution_count": 353,
   "source": [
    "35 / 5  # => 7.0"
   ],
   "outputs": [
    {
     "output_type": "execute_result",
     "data": {
      "text/plain": [
       "7.0"
      ]
     },
     "metadata": {},
     "execution_count": 353
    }
   ],
   "metadata": {}
  },
  {
   "cell_type": "code",
   "execution_count": 354,
   "source": [
    "5 // 3       # => 1"
   ],
   "outputs": [
    {
     "output_type": "execute_result",
     "data": {
      "text/plain": [
       "1"
      ]
     },
     "metadata": {},
     "execution_count": 354
    }
   ],
   "metadata": {}
  },
  {
   "cell_type": "code",
   "execution_count": 355,
   "source": [
    "-5 // 3      # => -2"
   ],
   "outputs": [
    {
     "output_type": "execute_result",
     "data": {
      "text/plain": [
       "-2"
      ]
     },
     "metadata": {},
     "execution_count": 355
    }
   ],
   "metadata": {}
  },
  {
   "cell_type": "code",
   "execution_count": 356,
   "source": [
    "5.0 // 3.0   # => 1.0 # works on floats too"
   ],
   "outputs": [
    {
     "output_type": "execute_result",
     "data": {
      "text/plain": [
       "1.0"
      ]
     },
     "metadata": {},
     "execution_count": 356
    }
   ],
   "metadata": {}
  },
  {
   "cell_type": "code",
   "execution_count": 357,
   "source": [
    "-5.0 // 3.0  # => -2.0"
   ],
   "outputs": [
    {
     "output_type": "execute_result",
     "data": {
      "text/plain": [
       "-2.0"
      ]
     },
     "metadata": {},
     "execution_count": 357
    }
   ],
   "metadata": {}
  },
  {
   "cell_type": "code",
   "execution_count": 358,
   "source": [
    "# Integer division rounds down for both positive and negative numbers.\n",
    "5 // 3       # => 1"
   ],
   "outputs": [
    {
     "output_type": "execute_result",
     "data": {
      "text/plain": [
       "1"
      ]
     },
     "metadata": {},
     "execution_count": 358
    }
   ],
   "metadata": {}
  },
  {
   "cell_type": "code",
   "execution_count": 359,
   "source": [
    "-5 // 3      # => -2"
   ],
   "outputs": [
    {
     "output_type": "execute_result",
     "data": {
      "text/plain": [
       "-2"
      ]
     },
     "metadata": {},
     "execution_count": 359
    }
   ],
   "metadata": {}
  },
  {
   "cell_type": "code",
   "execution_count": 360,
   "source": [
    "5.0 // 3.0   # => 1.0 # works on floats too"
   ],
   "outputs": [
    {
     "output_type": "execute_result",
     "data": {
      "text/plain": [
       "1.0"
      ]
     },
     "metadata": {},
     "execution_count": 360
    }
   ],
   "metadata": {}
  },
  {
   "cell_type": "code",
   "execution_count": 361,
   "source": [
    "-5.0 // 3.0  # => -2.0"
   ],
   "outputs": [
    {
     "output_type": "execute_result",
     "data": {
      "text/plain": [
       "-2.0"
      ]
     },
     "metadata": {},
     "execution_count": 361
    }
   ],
   "metadata": {}
  },
  {
   "cell_type": "code",
   "execution_count": 362,
   "source": [
    "# The result of division is always a float\n",
    "10.0 / 3  # => 3.3333333333333335"
   ],
   "outputs": [
    {
     "output_type": "execute_result",
     "data": {
      "text/plain": [
       "3.3333333333333335"
      ]
     },
     "metadata": {},
     "execution_count": 362
    }
   ],
   "metadata": {}
  },
  {
   "cell_type": "code",
   "execution_count": 363,
   "source": [
    "# Modulo operation\n",
    "7 % 3   # => 1\n",
    "# i % j have the same sign as j, unlike C\n",
    "-7 % 3  # => 2"
   ],
   "outputs": [
    {
     "output_type": "execute_result",
     "data": {
      "text/plain": [
       "2"
      ]
     },
     "metadata": {},
     "execution_count": 363
    }
   ],
   "metadata": {}
  },
  {
   "cell_type": "code",
   "execution_count": 364,
   "source": [
    "# Exponentiation (x**y, x to the yth power)\n",
    "2**3  # => 8"
   ],
   "outputs": [
    {
     "output_type": "execute_result",
     "data": {
      "text/plain": [
       "8"
      ]
     },
     "metadata": {},
     "execution_count": 364
    }
   ],
   "metadata": {}
  },
  {
   "cell_type": "code",
   "execution_count": 365,
   "source": [
    "# Enforce precedence with parentheses\n",
    "1 + 3 * 2    # => 7"
   ],
   "outputs": [
    {
     "output_type": "execute_result",
     "data": {
      "text/plain": [
       "7"
      ]
     },
     "metadata": {},
     "execution_count": 365
    }
   ],
   "metadata": {}
  },
  {
   "cell_type": "code",
   "execution_count": 366,
   "source": [
    "(1 + 3) * 2  # => 8"
   ],
   "outputs": [
    {
     "output_type": "execute_result",
     "data": {
      "text/plain": [
       "8"
      ]
     },
     "metadata": {},
     "execution_count": 366
    }
   ],
   "metadata": {}
  },
  {
   "cell_type": "code",
   "execution_count": 367,
   "source": [
    "# Boolean values are primitives (Note: the capitalization)\n",
    "True   # => True\n",
    "False  # => False\n",
    "\n",
    "# negate with not\n",
    "not True   # => False\n",
    "not False  # => True"
   ],
   "outputs": [
    {
     "output_type": "execute_result",
     "data": {
      "text/plain": [
       "True"
      ]
     },
     "metadata": {},
     "execution_count": 367
    }
   ],
   "metadata": {}
  },
  {
   "cell_type": "code",
   "execution_count": 368,
   "source": [
    "# Boolean Operators\n",
    "# Note \"and\" and \"or\" are case-sensitive\n",
    "True and False  # => False"
   ],
   "outputs": [
    {
     "output_type": "execute_result",
     "data": {
      "text/plain": [
       "False"
      ]
     },
     "metadata": {},
     "execution_count": 368
    }
   ],
   "metadata": {}
  },
  {
   "cell_type": "code",
   "execution_count": 369,
   "source": [
    "False or True   # => True"
   ],
   "outputs": [
    {
     "output_type": "execute_result",
     "data": {
      "text/plain": [
       "True"
      ]
     },
     "metadata": {},
     "execution_count": 369
    }
   ],
   "metadata": {}
  },
  {
   "cell_type": "code",
   "execution_count": 370,
   "source": [
    "# True and False are actually 1 and 0 but with different keywords\n",
    "True + True # => 2"
   ],
   "outputs": [
    {
     "output_type": "execute_result",
     "data": {
      "text/plain": [
       "2"
      ]
     },
     "metadata": {},
     "execution_count": 370
    }
   ],
   "metadata": {}
  },
  {
   "cell_type": "code",
   "execution_count": 371,
   "source": [
    "True * 8    # => 8"
   ],
   "outputs": [
    {
     "output_type": "execute_result",
     "data": {
      "text/plain": [
       "8"
      ]
     },
     "metadata": {},
     "execution_count": 371
    }
   ],
   "metadata": {}
  },
  {
   "cell_type": "code",
   "execution_count": 372,
   "source": [
    "False - 5   # => -5"
   ],
   "outputs": [
    {
     "output_type": "execute_result",
     "data": {
      "text/plain": [
       "-5"
      ]
     },
     "metadata": {},
     "execution_count": 372
    }
   ],
   "metadata": {}
  },
  {
   "cell_type": "code",
   "execution_count": 373,
   "source": [
    "# Comparison operators look at the numerical value of True and False\n",
    "0 == False  # => True"
   ],
   "outputs": [
    {
     "output_type": "execute_result",
     "data": {
      "text/plain": [
       "True"
      ]
     },
     "metadata": {},
     "execution_count": 373
    }
   ],
   "metadata": {}
  },
  {
   "cell_type": "code",
   "execution_count": 374,
   "source": [
    "1 == True   # => True"
   ],
   "outputs": [
    {
     "output_type": "execute_result",
     "data": {
      "text/plain": [
       "True"
      ]
     },
     "metadata": {},
     "execution_count": 374
    }
   ],
   "metadata": {}
  },
  {
   "cell_type": "code",
   "execution_count": 375,
   "source": [
    "2 == True   # => False"
   ],
   "outputs": [
    {
     "output_type": "execute_result",
     "data": {
      "text/plain": [
       "False"
      ]
     },
     "metadata": {},
     "execution_count": 375
    }
   ],
   "metadata": {}
  },
  {
   "cell_type": "code",
   "execution_count": 376,
   "source": [
    "-5 != False # => True"
   ],
   "outputs": [
    {
     "output_type": "execute_result",
     "data": {
      "text/plain": [
       "True"
      ]
     },
     "metadata": {},
     "execution_count": 376
    }
   ],
   "metadata": {}
  },
  {
   "cell_type": "code",
   "execution_count": 377,
   "source": [
    "# Using boolean logical operators on ints casts them to booleans for evaluation, but their non-cast value is returned\n",
    "# Don't mix up with bool(ints) and bitwise and/or (&,|)\n",
    "bool(0)     # => False"
   ],
   "outputs": [
    {
     "output_type": "execute_result",
     "data": {
      "text/plain": [
       "False"
      ]
     },
     "metadata": {},
     "execution_count": 377
    }
   ],
   "metadata": {}
  },
  {
   "cell_type": "code",
   "execution_count": 378,
   "source": [
    "bool(4)     # => True"
   ],
   "outputs": [
    {
     "output_type": "execute_result",
     "data": {
      "text/plain": [
       "True"
      ]
     },
     "metadata": {},
     "execution_count": 378
    }
   ],
   "metadata": {}
  },
  {
   "cell_type": "code",
   "execution_count": 379,
   "source": [
    "bool(-6)    # => True"
   ],
   "outputs": [
    {
     "output_type": "execute_result",
     "data": {
      "text/plain": [
       "True"
      ]
     },
     "metadata": {},
     "execution_count": 379
    }
   ],
   "metadata": {}
  },
  {
   "cell_type": "code",
   "execution_count": 380,
   "source": [
    "0 and 2     # => 0"
   ],
   "outputs": [
    {
     "output_type": "execute_result",
     "data": {
      "text/plain": [
       "0"
      ]
     },
     "metadata": {},
     "execution_count": 380
    }
   ],
   "metadata": {}
  },
  {
   "cell_type": "code",
   "execution_count": 381,
   "source": [
    "-5 or 0     # => -5"
   ],
   "outputs": [
    {
     "output_type": "execute_result",
     "data": {
      "text/plain": [
       "-5"
      ]
     },
     "metadata": {},
     "execution_count": 381
    }
   ],
   "metadata": {}
  },
  {
   "cell_type": "code",
   "execution_count": 382,
   "source": [
    "# Equality is ==\n",
    "1 == 1  # => True\n",
    "2 == 1  # => False"
   ],
   "outputs": [
    {
     "output_type": "execute_result",
     "data": {
      "text/plain": [
       "False"
      ]
     },
     "metadata": {},
     "execution_count": 382
    }
   ],
   "metadata": {}
  },
  {
   "cell_type": "code",
   "execution_count": 383,
   "source": [
    "# Inequality is !=\n",
    "1 != 1  # => False\n",
    "2 != 1  # => True"
   ],
   "outputs": [
    {
     "output_type": "execute_result",
     "data": {
      "text/plain": [
       "True"
      ]
     },
     "metadata": {},
     "execution_count": 383
    }
   ],
   "metadata": {}
  },
  {
   "cell_type": "code",
   "execution_count": 384,
   "source": [
    "# More comparisons\n",
    "1 < 10  # => True\n",
    "1 > 10  # => False\n",
    "2 <= 2  # => True\n",
    "2 >= 2  # => True"
   ],
   "outputs": [
    {
     "output_type": "execute_result",
     "data": {
      "text/plain": [
       "True"
      ]
     },
     "metadata": {},
     "execution_count": 384
    }
   ],
   "metadata": {}
  },
  {
   "cell_type": "code",
   "execution_count": 385,
   "source": [
    "# Seeing whether a value is in a range\n",
    "1 < 2 and 2 < 3  # => True\n",
    "2 < 3 and 3 < 2  # => False"
   ],
   "outputs": [
    {
     "output_type": "execute_result",
     "data": {
      "text/plain": [
       "False"
      ]
     },
     "metadata": {},
     "execution_count": 385
    }
   ],
   "metadata": {}
  },
  {
   "cell_type": "code",
   "execution_count": 386,
   "source": [
    "# Chaining makes this look nicer\n",
    "1 < 2 < 3  # => True\n",
    "2 < 3 < 2  # => False"
   ],
   "outputs": [
    {
     "output_type": "execute_result",
     "data": {
      "text/plain": [
       "False"
      ]
     },
     "metadata": {},
     "execution_count": 386
    }
   ],
   "metadata": {}
  },
  {
   "cell_type": "code",
   "execution_count": 387,
   "source": [
    "# (is vs. ==) is checks if two variables refer to the same object, but == checks\n",
    "# if the objects pointed to have the same values.\n",
    "a = [1, 2, 3, 4]  # Point a at a new list, [1, 2, 3, 4]\n",
    "b = a             # Point b at what a is pointing to\n",
    "b is a            # => True, a and b refer to the same object\n",
    "b == a            # => True, a's and b's objects are equal\n",
    "b = [1, 2, 3, 4]  # Point b at a new list, [1, 2, 3, 4]\n",
    "b is a            # => False, a and b do not refer to the same object\n",
    "b == a            # => True, a's and b's objects are equal"
   ],
   "outputs": [
    {
     "output_type": "execute_result",
     "data": {
      "text/plain": [
       "True"
      ]
     },
     "metadata": {},
     "execution_count": 387
    }
   ],
   "metadata": {}
  },
  {
   "cell_type": "code",
   "execution_count": 388,
   "source": [
    "# Strings are created with \" or '\n",
    "\"This is a string.\"\n",
    "'This is also a string.'"
   ],
   "outputs": [
    {
     "output_type": "execute_result",
     "data": {
      "text/plain": [
       "'This is also a string.'"
      ]
     },
     "metadata": {},
     "execution_count": 388
    }
   ],
   "metadata": {}
  },
  {
   "cell_type": "code",
   "execution_count": 389,
   "source": [
    "# Strings can be added too\n",
    "\"Hello \" + \"world!\"  # => \"Hello world!\""
   ],
   "outputs": [
    {
     "output_type": "execute_result",
     "data": {
      "text/plain": [
       "'Hello world!'"
      ]
     },
     "metadata": {},
     "execution_count": 389
    }
   ],
   "metadata": {}
  },
  {
   "cell_type": "code",
   "execution_count": 390,
   "source": [
    "# String literals (but not variables) can be concatenated without using '+'\n",
    "\"Hello \" \"world!\"    # => \"Hello world!\""
   ],
   "outputs": [
    {
     "output_type": "execute_result",
     "data": {
      "text/plain": [
       "'Hello world!'"
      ]
     },
     "metadata": {},
     "execution_count": 390
    }
   ],
   "metadata": {}
  },
  {
   "cell_type": "code",
   "execution_count": 391,
   "source": [
    "# A string can be treated like a list of characters\n",
    "\"Hello world!\"[0]  # => 'H'"
   ],
   "outputs": [
    {
     "output_type": "execute_result",
     "data": {
      "text/plain": [
       "'H'"
      ]
     },
     "metadata": {},
     "execution_count": 391
    }
   ],
   "metadata": {}
  },
  {
   "cell_type": "code",
   "execution_count": 392,
   "source": [
    "# You can find the length of a string\n",
    "len(\"This is a string\")  # => 16"
   ],
   "outputs": [
    {
     "output_type": "execute_result",
     "data": {
      "text/plain": [
       "16"
      ]
     },
     "metadata": {},
     "execution_count": 392
    }
   ],
   "metadata": {}
  },
  {
   "cell_type": "code",
   "execution_count": 393,
   "source": [
    "# You can also format using f-strings or formatted string literals (in Python 3.6+)\n",
    "name = \"Reiko\"\n",
    "f\"She said her name is {name}.\" # => \"She said her name is Reiko\""
   ],
   "outputs": [
    {
     "output_type": "execute_result",
     "data": {
      "text/plain": [
       "'She said her name is Reiko.'"
      ]
     },
     "metadata": {},
     "execution_count": 393
    }
   ],
   "metadata": {}
  },
  {
   "cell_type": "code",
   "execution_count": 394,
   "source": [
    "# You can basically put any Python expression inside the braces and it will be output in the string.\n",
    "f\"{name} is {len(name)} characters long.\" # => \"Reiko is 5 characters long.\""
   ],
   "outputs": [
    {
     "output_type": "execute_result",
     "data": {
      "text/plain": [
       "'Reiko is 5 characters long.'"
      ]
     },
     "metadata": {},
     "execution_count": 394
    }
   ],
   "metadata": {}
  },
  {
   "cell_type": "code",
   "execution_count": 395,
   "source": [
    "# None is an object\n",
    "None  # => None\n",
    "\n",
    "# Don't use the equality \"==\" symbol to compare objects to None\n",
    "# Use \"is\" instead. This checks for equality of object identity.\n",
    "\"etc\" == None  # => False\n",
    "None is None   # => True\n",
    "\n",
    "# None, 0, and empty strings/lists/dicts/tuples all evaluate to False.\n",
    "# All other values are True\n",
    "bool(0)   # => False\n",
    "bool(\"\")  # => False\n",
    "bool([])  # => False\n",
    "bool({})  # => False\n",
    "bool(())  # => False"
   ],
   "outputs": [
    {
     "output_type": "execute_result",
     "data": {
      "text/plain": [
       "False"
      ]
     },
     "metadata": {},
     "execution_count": 395
    }
   ],
   "metadata": {}
  },
  {
   "cell_type": "markdown",
   "source": [
    "### \\#2 Variables and Collections"
   ],
   "metadata": {}
  },
  {
   "cell_type": "code",
   "execution_count": 398,
   "source": [
    "# Python has a print function\n",
    "print(\"I'm Python. Nice to meet you!\")  # => I'm Python. Nice to meet you!\n",
    "\n",
    "# By default the print function also prints out a newline at the end.\n",
    "# Use the optional argument end to change the end string.\n",
    "print(\"Hello, World\", end=\"!\")  # => Hello, World!\n",
    "\n",
    "# Simple way to get input data from console\n",
    "input_string_var = input(\"\\nEnter some data: \") # Returns the data as a string\n",
    "\n",
    "# There are no declarations, only assignments.\n",
    "# Convention is to use lower_case_with_underscores\n",
    "some_var = 5\n",
    "some_var  # => 5"
   ],
   "outputs": [
    {
     "output_type": "stream",
     "name": "stdout",
     "text": [
      "I'm Python. Nice to meet you!\n",
      "Hello, World!\n",
      "Enter some data: Ciao!\n"
     ]
    },
    {
     "output_type": "execute_result",
     "data": {
      "text/plain": [
       "5"
      ]
     },
     "metadata": {},
     "execution_count": 398
    }
   ],
   "metadata": {}
  },
  {
   "cell_type": "code",
   "execution_count": 399,
   "source": [
    "# Accessing a previously unassigned variable is an exception.\n",
    "# See Control Flow to learn more about exception handling.\n",
    "some_unknown_var  # Raises a NameError"
   ],
   "outputs": [
    {
     "output_type": "error",
     "ename": "NameError",
     "evalue": "name 'some_unknown_var' is not defined",
     "traceback": [
      "\u001b[0;31m---------------------------------------------------------------------------\u001b[0m",
      "\u001b[0;31mNameError\u001b[0m                                 Traceback (most recent call last)",
      "\u001b[0;32m<ipython-input-399-2133f8816daf>\u001b[0m in \u001b[0;36m<module>\u001b[0;34m\u001b[0m\n\u001b[1;32m      1\u001b[0m \u001b[0;31m# Accessing a previously unassigned variable is an exception.\u001b[0m\u001b[0;34m\u001b[0m\u001b[0;34m\u001b[0m\u001b[0;34m\u001b[0m\u001b[0m\n\u001b[1;32m      2\u001b[0m \u001b[0;31m# See Control Flow to learn more about exception handling.\u001b[0m\u001b[0;34m\u001b[0m\u001b[0;34m\u001b[0m\u001b[0;34m\u001b[0m\u001b[0m\n\u001b[0;32m----> 3\u001b[0;31m \u001b[0msome_unknown_var\u001b[0m  \u001b[0;31m# Raises a NameError\u001b[0m\u001b[0;34m\u001b[0m\u001b[0;34m\u001b[0m\u001b[0m\n\u001b[0m",
      "\u001b[0;31mNameError\u001b[0m: name 'some_unknown_var' is not defined"
     ]
    }
   ],
   "metadata": {}
  },
  {
   "cell_type": "code",
   "execution_count": 410,
   "source": [
    "# if can be used as an expression\n",
    "# Equivalent of C's '?:' ternary operator\n",
    "\"yay!\" if 0 > 1 else \"nay!\"  # => \"nay!\""
   ],
   "outputs": [
    {
     "output_type": "execute_result",
     "data": {
      "text/plain": [
       "'nay!'"
      ]
     },
     "metadata": {},
     "execution_count": 410
    }
   ],
   "metadata": {}
  },
  {
   "cell_type": "code",
   "execution_count": 584,
   "source": [
    "# Lists store sequences\n",
    "li = []\n",
    "# You can start with a prefilled list\n",
    "other_li = [4, 5, 6]\n",
    "\n",
    "# Add stuff to the end of a list with append\n",
    "li.append(1)    # li is now [1]\n",
    "li.append(2)    # li is now [1, 2]\n",
    "li.append(4)    # li is now [1, 2, 4]\n",
    "li.append(3)    # li is now [1, 2, 4, 3]\n",
    "# Remove from the end with pop\n",
    "li.pop()        # => 3 and li is now [1, 2, 4]\n",
    "# Let's put it back\n",
    "li.append(3)    # li is now [1, 2, 4, 3] again.\n",
    "\n",
    "# Access a list like you would any array\n",
    "li[0]   # => 1\n",
    "# Look at the last element\n",
    "li[-1]  # => 3\n",
    "\n",
    "# Looking out of bounds is an IndexError\n",
    "\n",
    "# You can look at ranges with slice syntax.\n",
    "# The start index is included, the end index is not\n",
    "# (It's a closed/open range for you mathy types.)\n",
    "li[1:3]   # Return list from index 1 to 3 => [2, 4]\n",
    "li[2:]    # Return list starting from index 2 => [4, 3]\n",
    "li[:3]    # Return list from beginning until index 3  => [1, 2, 4]\n",
    "li[::2]   # Return list selecting every second entry => [1, 4]\n",
    "li[::-1]  # Return list in reverse order => [3, 4, 2, 1]\n",
    "# Use any combination of these to make advanced slices\n",
    "# li[start:end:step]\n",
    "\n"
   ],
   "outputs": [
    {
     "output_type": "execute_result",
     "data": {
      "text/plain": [
       "[3, 4, 2, 1]"
      ]
     },
     "metadata": {},
     "execution_count": 584
    }
   ],
   "metadata": {}
  },
  {
   "cell_type": "code",
   "execution_count": 585,
   "source": [
    "li[4]  # Raises an IndexError"
   ],
   "outputs": [
    {
     "output_type": "error",
     "ename": "IndexError",
     "evalue": "list index out of range",
     "traceback": [
      "\u001b[0;31m---------------------------------------------------------------------------\u001b[0m",
      "\u001b[0;31mIndexError\u001b[0m                                Traceback (most recent call last)",
      "\u001b[0;32m<ipython-input-585-8a77f00b10f9>\u001b[0m in \u001b[0;36m<module>\u001b[0;34m\u001b[0m\n\u001b[0;32m----> 1\u001b[0;31m \u001b[0mli\u001b[0m\u001b[0;34m[\u001b[0m\u001b[0;36m4\u001b[0m\u001b[0;34m]\u001b[0m  \u001b[0;31m# Raises an IndexError\u001b[0m\u001b[0;34m\u001b[0m\u001b[0;34m\u001b[0m\u001b[0m\n\u001b[0m",
      "\u001b[0;31mIndexError\u001b[0m: list index out of range"
     ]
    }
   ],
   "metadata": {}
  },
  {
   "cell_type": "code",
   "execution_count": 586,
   "source": [
    "# Make a one layer deep copy using slices\n",
    "li2 = li[:]  # => li2 = [1, 2, 4, 3] but (li2 is li) will result in false.\n",
    "\n",
    "# Remove arbitrary elements from a list with \"del\"\n",
    "del li[2]  # li is now [1, 2, 3]\n",
    "\n",
    "# Remove first occurrence of a value\n",
    "li.remove(2)  # li is now [1, 3]"
   ],
   "outputs": [],
   "metadata": {}
  },
  {
   "cell_type": "code",
   "execution_count": 587,
   "source": [
    "li.remove(2)  # Raises a ValueError as 2 is not in the list"
   ],
   "outputs": [
    {
     "output_type": "error",
     "ename": "ValueError",
     "evalue": "list.remove(x): x not in list",
     "traceback": [
      "\u001b[0;31m---------------------------------------------------------------------------\u001b[0m",
      "\u001b[0;31mValueError\u001b[0m                                Traceback (most recent call last)",
      "\u001b[0;32m<ipython-input-587-7070a7b60b4f>\u001b[0m in \u001b[0;36m<module>\u001b[0;34m\u001b[0m\n\u001b[0;32m----> 1\u001b[0;31m \u001b[0mli\u001b[0m\u001b[0;34m.\u001b[0m\u001b[0mremove\u001b[0m\u001b[0;34m(\u001b[0m\u001b[0;36m2\u001b[0m\u001b[0;34m)\u001b[0m  \u001b[0;31m# Raises a ValueError as 2 is not in the list\u001b[0m\u001b[0;34m\u001b[0m\u001b[0;34m\u001b[0m\u001b[0m\n\u001b[0m",
      "\u001b[0;31mValueError\u001b[0m: list.remove(x): x not in list"
     ]
    }
   ],
   "metadata": {}
  },
  {
   "cell_type": "code",
   "execution_count": 589,
   "source": [
    "# Insert an element at a specific index\n",
    "li.insert(1, 2)  # li is now [1, 2, 3] again\n",
    "\n",
    "# Get the index of the first item found matching the argument\n",
    "li.index(2)  # => 1"
   ],
   "outputs": [
    {
     "output_type": "execute_result",
     "data": {
      "text/plain": [
       "1"
      ]
     },
     "metadata": {},
     "execution_count": 589
    }
   ],
   "metadata": {}
  },
  {
   "cell_type": "code",
   "execution_count": 592,
   "source": [
    "li.index(4)  # Raises a ValueError as 4 is not in the list"
   ],
   "outputs": [
    {
     "output_type": "execute_result",
     "data": {
      "text/plain": [
       "4"
      ]
     },
     "metadata": {},
     "execution_count": 592
    }
   ],
   "metadata": {}
  },
  {
   "cell_type": "code",
   "execution_count": 591,
   "source": [
    "# You can add lists\n",
    "# Note: values for li and for other_li are not modified.\n",
    "li + other_li  # => [1, 2, 3, 4, 5, 6]\n",
    "\n",
    "# Concatenate lists with \"extend()\"\n",
    "li.extend(other_li)  # Now li is [1, 2, 3, 4, 5, 6]\n",
    "\n",
    "# Check for existence in a list with \"in\"\n",
    "1 in li  # => True\n",
    "\n",
    "# Examine the length with \"len()\"\n",
    "len(li)  # => 6"
   ],
   "outputs": [
    {
     "output_type": "execute_result",
     "data": {
      "text/plain": [
       "7"
      ]
     },
     "metadata": {},
     "execution_count": 591
    }
   ],
   "metadata": {}
  },
  {
   "cell_type": "code",
   "execution_count": 593,
   "source": [
    "# Tuples are like lists but are immutable.\n",
    "tup = (1, 2, 3)\n",
    "tup[0]      # => 1\n",
    "\n",
    "# Note that a tuple of length one has to have a comma after the last element but\n",
    "# tuples of other lengths, even zero, do not.\n",
    "type((1))   # => <class 'int'>\n",
    "type((1,))  # => <class 'tuple'>\n",
    "type(())    # => <class 'tuple'>\n",
    "\n",
    "# You can do most of the list operations on tuples too\n",
    "len(tup)         # => 3\n",
    "tup + (4, 5, 6)  # => (1, 2, 3, 4, 5, 6)\n",
    "tup[:2]          # => (1, 2)\n",
    "2 in tup         # => True\n",
    "\n",
    "# You can unpack tuples (or lists) into variables\n",
    "a, b, c = (1, 2, 3)  # a is now 1, b is now 2 and c is now 3\n",
    "# You can also do extended unpacking\n",
    "a, *b, c = (1, 2, 3, 4)  # a is now 1, b is now [2, 3] and c is now 4\n",
    "# Tuples are created by default if you leave out the parentheses\n",
    "d, e, f = 4, 5, 6  # tuple 4, 5, 6 is unpacked into variables d, e and f\n",
    "# respectively such that d = 4, e = 5 and f = 6\n",
    "# Now look how easy it is to swap two values\n",
    "e, d = d, e  # d is now 5 and e is now 4"
   ],
   "outputs": [],
   "metadata": {}
  },
  {
   "cell_type": "code",
   "execution_count": 595,
   "source": [
    "tup[0] = 3  # Raises a TypeError"
   ],
   "outputs": [
    {
     "output_type": "error",
     "ename": "TypeError",
     "evalue": "'tuple' object does not support item assignment",
     "traceback": [
      "\u001b[0;31m---------------------------------------------------------------------------\u001b[0m",
      "\u001b[0;31mTypeError\u001b[0m                                 Traceback (most recent call last)",
      "\u001b[0;32m<ipython-input-595-1a381b178dec>\u001b[0m in \u001b[0;36m<module>\u001b[0;34m\u001b[0m\n\u001b[0;32m----> 1\u001b[0;31m \u001b[0mtup\u001b[0m\u001b[0;34m[\u001b[0m\u001b[0;36m0\u001b[0m\u001b[0;34m]\u001b[0m \u001b[0;34m=\u001b[0m \u001b[0;36m3\u001b[0m  \u001b[0;31m# Raises a TypeError\u001b[0m\u001b[0;34m\u001b[0m\u001b[0;34m\u001b[0m\u001b[0m\n\u001b[0m",
      "\u001b[0;31mTypeError\u001b[0m: 'tuple' object does not support item assignment"
     ]
    }
   ],
   "metadata": {}
  },
  {
   "cell_type": "code",
   "execution_count": 427,
   "source": [
    "# Dictionaries store mappings from keys to values\n",
    "empty_dict = {}\n",
    "# Here is a prefilled dictionary\n",
    "filled_dict = {\"one\": 1, \"two\": 2, \"three\": 3}\n",
    "\n",
    "# Note keys for dictionaries have to be immutable types. This is to ensure that\n",
    "# the key can be converted to a constant hash value for quick look-ups.\n",
    "# Immutable types include ints, floats, strings, tuples.\n",
    "valid_dict = {(1,2,3):[1,2,3]}   # Values can be of any type, however.\n",
    "\n",
    "# Look up values with []\n",
    "filled_dict[\"one\"]  # => 1"
   ],
   "outputs": [
    {
     "output_type": "execute_result",
     "data": {
      "text/plain": [
       "1"
      ]
     },
     "metadata": {},
     "execution_count": 427
    }
   ],
   "metadata": {}
  },
  {
   "cell_type": "code",
   "execution_count": 428,
   "source": [
    "invalid_dict = {[1,2,3]: \"123\"}  # => Raises a TypeError: unhashable type: 'list'"
   ],
   "outputs": [
    {
     "output_type": "error",
     "ename": "TypeError",
     "evalue": "unhashable type: 'list'",
     "traceback": [
      "\u001b[0;31m---------------------------------------------------------------------------\u001b[0m",
      "\u001b[0;31mTypeError\u001b[0m                                 Traceback (most recent call last)",
      "\u001b[0;32m<ipython-input-428-29d42f998e3e>\u001b[0m in \u001b[0;36m<module>\u001b[0;34m\u001b[0m\n\u001b[0;32m----> 1\u001b[0;31m \u001b[0minvalid_dict\u001b[0m \u001b[0;34m=\u001b[0m \u001b[0;34m{\u001b[0m\u001b[0;34m[\u001b[0m\u001b[0;36m1\u001b[0m\u001b[0;34m,\u001b[0m\u001b[0;36m2\u001b[0m\u001b[0;34m,\u001b[0m\u001b[0;36m3\u001b[0m\u001b[0;34m]\u001b[0m\u001b[0;34m:\u001b[0m \u001b[0;34m\"123\"\u001b[0m\u001b[0;34m}\u001b[0m  \u001b[0;31m# => Raises a TypeError: unhashable type: 'list'\u001b[0m\u001b[0;34m\u001b[0m\u001b[0;34m\u001b[0m\u001b[0m\n\u001b[0m",
      "\u001b[0;31mTypeError\u001b[0m: unhashable type: 'list'"
     ]
    }
   ],
   "metadata": {}
  },
  {
   "cell_type": "code",
   "execution_count": 502,
   "source": [
    "# Get all keys as an iterable with \"keys()\". We need to wrap the call in list()\n",
    "# to turn it into a list. We'll talk about those later.  Note - for Python\n",
    "# versions <3.7, dictionary key ordering is not guaranteed. Your results might\n",
    "# not match the example below exactly. However, as of Python 3.7, dictionary\n",
    "# items maintain the order at which they are inserted into the dictionary.\n",
    "list(filled_dict.keys())  # => [\"three\", \"two\", \"one\"] in Python <3.7\n",
    "list(filled_dict.keys())  # => [\"one\", \"two\", \"three\"] in Python 3.7+\n",
    "\n",
    "\n",
    "# Get all values as an iterable with \"values()\". Once again we need to wrap it\n",
    "# in list() to get it out of the iterable. Note - Same as above regarding key\n",
    "# ordering.\n",
    "list(filled_dict.values())  # => [3, 2, 1]  in Python <3.7\n",
    "list(filled_dict.values())  # => [1, 2, 3] in Python 3.7+"
   ],
   "outputs": [
    {
     "output_type": "execute_result",
     "data": {
      "text/plain": [
       "[1, 2, 3]"
      ]
     },
     "metadata": {},
     "execution_count": 502
    }
   ],
   "metadata": {}
  },
  {
   "cell_type": "code",
   "execution_count": 503,
   "source": [
    "# Check for existence of keys in a dictionary with \"in\"\n",
    "\"one\" in filled_dict  # => True\n",
    "1 in filled_dict      # => False\n",
    "\n",
    "# Use \"get()\" method to avoid the KeyError\n",
    "filled_dict.get(\"one\")      # => 1\n",
    "filled_dict.get(\"four\")     # => None\n",
    "# The get method supports a default argument when the value is missing\n",
    "filled_dict.get(\"one\", 4)   # => 1\n",
    "filled_dict.get(\"four\", 4)  # => 4\n",
    "\n",
    "# \"setdefault()\" inserts into a dictionary only if the given key isn't present\n",
    "filled_dict.setdefault(\"five\", 5)  # filled_dict[\"five\"] is set to 5\n",
    "filled_dict.setdefault(\"five\", 6)  # filled_dict[\"five\"] is still 5\n",
    "\n",
    "# Adding to a dictionary\n",
    "filled_dict.update({\"four\":4})  # => {\"one\": 1, \"two\": 2, \"three\": 3, \"four\": 4}\n",
    "filled_dict[\"four\"] = 4         # another way to add to dict\n",
    "\n",
    "# Remove keys from a dictionary with del\n",
    "del filled_dict[\"one\"]  # Removes the key \"one\" from filled dict\n",
    "\n",
    "# From Python 3.5 you can also use the additional unpacking options\n",
    "{'a': 1, **{'b': 2}}  # => {'a': 1, 'b': 2}\n",
    "{'a': 1, **{'a': 2}}  # => {'a': 2}"
   ],
   "outputs": [
    {
     "output_type": "execute_result",
     "data": {
      "text/plain": [
       "{'a': 2}"
      ]
     },
     "metadata": {},
     "execution_count": 503
    }
   ],
   "metadata": {}
  },
  {
   "cell_type": "code",
   "execution_count": 504,
   "source": [
    "del filled_dict[\"four\"] # deleting 'four' entry\n",
    "# Looking up a non-existing key is a KeyError\n",
    "filled_dict[\"four\"]  # KeyError"
   ],
   "outputs": [
    {
     "output_type": "error",
     "ename": "KeyError",
     "evalue": "'four'",
     "traceback": [
      "\u001b[0;31m---------------------------------------------------------------------------\u001b[0m",
      "\u001b[0;31mKeyError\u001b[0m                                  Traceback (most recent call last)",
      "\u001b[0;32m<ipython-input-504-e25d3d4e3715>\u001b[0m in \u001b[0;36m<module>\u001b[0;34m\u001b[0m\n\u001b[1;32m      1\u001b[0m \u001b[0;32mdel\u001b[0m \u001b[0mfilled_dict\u001b[0m\u001b[0;34m[\u001b[0m\u001b[0;34m\"four\"\u001b[0m\u001b[0;34m]\u001b[0m \u001b[0;31m# deleting 'four' entry\u001b[0m\u001b[0;34m\u001b[0m\u001b[0;34m\u001b[0m\u001b[0m\n\u001b[1;32m      2\u001b[0m \u001b[0;31m# Looking up a non-existing key is a KeyError\u001b[0m\u001b[0;34m\u001b[0m\u001b[0;34m\u001b[0m\u001b[0;34m\u001b[0m\u001b[0m\n\u001b[0;32m----> 3\u001b[0;31m \u001b[0mfilled_dict\u001b[0m\u001b[0;34m[\u001b[0m\u001b[0;34m\"four\"\u001b[0m\u001b[0;34m]\u001b[0m  \u001b[0;31m# KeyError\u001b[0m\u001b[0;34m\u001b[0m\u001b[0;34m\u001b[0m\u001b[0m\n\u001b[0m",
      "\u001b[0;31mKeyError\u001b[0m: 'four'"
     ]
    }
   ],
   "metadata": {}
  },
  {
   "cell_type": "code",
   "execution_count": null,
   "source": [
    "# Sets store ... well sets\n",
    "empty_set = set()\n",
    "# Initialize a set with a bunch of values. Yeah, it looks a bit like a dict. Sorry.\n",
    "some_set = {1, 1, 2, 2, 3, 4}  # some_set is now {1, 2, 3, 4}"
   ],
   "outputs": [],
   "metadata": {}
  },
  {
   "cell_type": "code",
   "execution_count": null,
   "source": [
    "# Similar to keys of a dictionary, elements of a set have to be immutable.\n",
    "invalid_set = {[1], 1}  # => Raises a TypeError: unhashable type: 'list'"
   ],
   "outputs": [],
   "metadata": {}
  },
  {
   "cell_type": "code",
   "execution_count": 505,
   "source": [
    "valid_set = {(1,), 1}"
   ],
   "outputs": [],
   "metadata": {}
  },
  {
   "cell_type": "code",
   "execution_count": 506,
   "source": [
    "# Add one more item to the set\n",
    "filled_set = some_set\n",
    "filled_set.add(5)  # filled_set is now {1, 2, 3, 4, 5}\n",
    "# Sets do not have duplicate elements\n",
    "filled_set.add(5)  # it remains as before {1, 2, 3, 4, 5}\n",
    "\n",
    "# Do set intersection with &\n",
    "other_set = {3, 4, 5, 6}\n",
    "filled_set & other_set  # => {3, 4, 5}\n",
    "\n",
    "# Do set union with |\n",
    "filled_set | other_set  # => {1, 2, 3, 4, 5, 6}"
   ],
   "outputs": [
    {
     "output_type": "execute_result",
     "data": {
      "text/plain": [
       "{1, 2, 3, 4, 5, 6}"
      ]
     },
     "metadata": {},
     "execution_count": 506
    }
   ],
   "metadata": {}
  },
  {
   "cell_type": "code",
   "execution_count": 507,
   "source": [
    "# Do set difference with -\n",
    "{1, 2, 3, 4} - {2, 3, 5}  # => {1, 4}"
   ],
   "outputs": [
    {
     "output_type": "execute_result",
     "data": {
      "text/plain": [
       "{1, 4}"
      ]
     },
     "metadata": {},
     "execution_count": 507
    }
   ],
   "metadata": {}
  },
  {
   "cell_type": "code",
   "execution_count": 508,
   "source": [
    "# Do set symmetric difference with ^\n",
    "{1, 2, 3, 4} ^ {2, 3, 5}  # => {1, 4, 5}"
   ],
   "outputs": [
    {
     "output_type": "execute_result",
     "data": {
      "text/plain": [
       "{1, 4, 5}"
      ]
     },
     "metadata": {},
     "execution_count": 508
    }
   ],
   "metadata": {}
  },
  {
   "cell_type": "code",
   "execution_count": 509,
   "source": [
    "# Check if set on the left is a superset of set on the right\n",
    "{1, 2} >= {1, 2, 3} # => False"
   ],
   "outputs": [
    {
     "output_type": "execute_result",
     "data": {
      "text/plain": [
       "False"
      ]
     },
     "metadata": {},
     "execution_count": 509
    }
   ],
   "metadata": {}
  },
  {
   "cell_type": "code",
   "execution_count": 510,
   "source": [
    "# Check if set on the left is a subset of set on the right\n",
    "{1, 2} <= {1, 2, 3} # => True"
   ],
   "outputs": [
    {
     "output_type": "execute_result",
     "data": {
      "text/plain": [
       "True"
      ]
     },
     "metadata": {},
     "execution_count": 510
    }
   ],
   "metadata": {}
  },
  {
   "cell_type": "code",
   "execution_count": 511,
   "source": [
    "# Check for existence in a set with in\n",
    "2 in filled_set   # => True\n",
    "10 in filled_set  # => False"
   ],
   "outputs": [
    {
     "output_type": "execute_result",
     "data": {
      "text/plain": [
       "False"
      ]
     },
     "metadata": {},
     "execution_count": 511
    }
   ],
   "metadata": {}
  },
  {
   "cell_type": "code",
   "execution_count": 512,
   "source": [
    "# Make a one layer deep copy\n",
    "filled_set = some_set.copy()  # filled_set is {1, 2, 3, 4, 5}\n",
    "filled_set is some_set        # => False"
   ],
   "outputs": [
    {
     "output_type": "execute_result",
     "data": {
      "text/plain": [
       "False"
      ]
     },
     "metadata": {},
     "execution_count": 512
    }
   ],
   "metadata": {}
  },
  {
   "cell_type": "markdown",
   "source": [
    "### \\#3 Control Flow and Iterables"
   ],
   "metadata": {}
  },
  {
   "cell_type": "code",
   "execution_count": 513,
   "source": [
    "# Let's just make a variable\n",
    "some_var = 5\n",
    "\n",
    "# Here is an if statement. Indentation is significant in Python!\n",
    "# Convention is to use four spaces, not tabs.\n",
    "# This prints \"some_var is smaller than 10\"\n",
    "if some_var > 10:\n",
    "    print(\"some_var is totally bigger than 10.\")\n",
    "elif some_var < 10:    # This elif clause is optional.\n",
    "    print(\"some_var is smaller than 10.\")\n",
    "else:                  # This is optional too.\n",
    "    print(\"some_var is indeed 10.\")"
   ],
   "outputs": [
    {
     "output_type": "stream",
     "name": "stdout",
     "text": [
      "some_var is smaller than 10.\n"
     ]
    }
   ],
   "metadata": {}
  },
  {
   "cell_type": "code",
   "execution_count": 514,
   "source": [
    "\"\"\"\n",
    "For loops iterate over lists\n",
    "prints:\n",
    "    dog is a mammal\n",
    "    cat is a mammal\n",
    "    mouse is a mammal\n",
    "\"\"\"\n",
    "for animal in [\"dog\", \"cat\", \"mouse\"]:\n",
    "    # You can use format() to interpolate formatted strings\n",
    "    print(\"{} is a mammal\".format(animal))"
   ],
   "outputs": [
    {
     "output_type": "stream",
     "name": "stdout",
     "text": [
      "dog is a mammal\n",
      "cat is a mammal\n",
      "mouse is a mammal\n"
     ]
    }
   ],
   "metadata": {}
  },
  {
   "cell_type": "code",
   "execution_count": 515,
   "source": [
    "\"\"\"\n",
    "\"range(number)\" returns an iterable of numbers\n",
    "from zero to the given number\n",
    "prints:\n",
    "    0\n",
    "    1\n",
    "    2\n",
    "    3\n",
    "\"\"\"\n",
    "for i in range(4):\n",
    "    print(i)"
   ],
   "outputs": [
    {
     "output_type": "stream",
     "name": "stdout",
     "text": [
      "0\n",
      "1\n",
      "2\n",
      "3\n"
     ]
    }
   ],
   "metadata": {}
  },
  {
   "cell_type": "code",
   "execution_count": 516,
   "source": [
    "\"\"\"\n",
    "\"range(number)\" returns an iterable of numbers\n",
    "from zero to the given number\n",
    "prints:\n",
    "    0\n",
    "    1\n",
    "    2\n",
    "    3\n",
    "\"\"\"\n",
    "for i in range(4):\n",
    "    print(i)"
   ],
   "outputs": [
    {
     "output_type": "stream",
     "name": "stdout",
     "text": [
      "0\n",
      "1\n",
      "2\n",
      "3\n"
     ]
    }
   ],
   "metadata": {}
  },
  {
   "cell_type": "code",
   "execution_count": 517,
   "source": [
    "\"\"\"\n",
    "\"range(lower, upper)\" returns an iterable of numbers\n",
    "from the lower number to the upper number\n",
    "prints:\n",
    "    4\n",
    "    5\n",
    "    6\n",
    "    7\n",
    "\"\"\"\n",
    "for i in range(4, 8):\n",
    "    print(i)"
   ],
   "outputs": [
    {
     "output_type": "stream",
     "name": "stdout",
     "text": [
      "4\n",
      "5\n",
      "6\n",
      "7\n"
     ]
    }
   ],
   "metadata": {}
  },
  {
   "cell_type": "code",
   "execution_count": 518,
   "source": [
    "\"\"\"\n",
    "\"range(lower, upper, step)\" returns an iterable of numbers\n",
    "from the lower number to the upper number, while incrementing\n",
    "by step. If step is not indicated, the default value is 1.\n",
    "prints:\n",
    "    4\n",
    "    6\n",
    "\"\"\"\n",
    "for i in range(4, 8, 2):\n",
    "    print(i)"
   ],
   "outputs": [
    {
     "output_type": "stream",
     "name": "stdout",
     "text": [
      "4\n",
      "6\n"
     ]
    }
   ],
   "metadata": {}
  },
  {
   "cell_type": "code",
   "execution_count": 519,
   "source": [
    "\"\"\"\n",
    "To loop over a list, and retrieve both the index and the value of each item in the list\n",
    "prints:\n",
    "    0 dog\n",
    "    1 cat\n",
    "    2 mouse\n",
    "\"\"\"\n",
    "animals = [\"dog\", \"cat\", \"mouse\"]\n",
    "for i, value in enumerate(animals):\n",
    "    print(i, value)"
   ],
   "outputs": [
    {
     "output_type": "stream",
     "name": "stdout",
     "text": [
      "0 dog\n",
      "1 cat\n",
      "2 mouse\n"
     ]
    }
   ],
   "metadata": {}
  },
  {
   "cell_type": "code",
   "execution_count": 520,
   "source": [
    "\"\"\"\n",
    "While loops go until a condition is no longer met.\n",
    "prints:\n",
    "    0\n",
    "    1\n",
    "    2\n",
    "    3\n",
    "\"\"\"\n",
    "x = 0\n",
    "while x < 4:\n",
    "    print(x)\n",
    "    x += 1  # Shorthand for x = x + 1"
   ],
   "outputs": [
    {
     "output_type": "stream",
     "name": "stdout",
     "text": [
      "0\n",
      "1\n",
      "2\n",
      "3\n"
     ]
    }
   ],
   "metadata": {}
  },
  {
   "cell_type": "code",
   "execution_count": 521,
   "source": [
    "# Handle exceptions with a try/except block\n",
    "# PyDoc: https://docs.python.org/3/tutorial/errors.html\n",
    "try:\n",
    "    # Use \"raise\" to raise an error\n",
    "    raise IndexError(\"This is an index error\")\n",
    "except IndexError as e:\n",
    "    pass                 # Pass is just a no-op. Usually you would do recovery here.\n",
    "except (TypeError, NameError):\n",
    "    pass                 # Multiple exceptions can be handled together, if required.\n",
    "else:                    # Optional clause to the try/except block. Must follow all except blocks\n",
    "    print(\"All good!\")   # Runs only if the code in try raises no exceptions\n",
    "finally:                 # Execute under all circumstances\n",
    "    print(\"We can clean up resources here\")"
   ],
   "outputs": [
    {
     "output_type": "stream",
     "name": "stdout",
     "text": [
      "We can clean up resources here\n"
     ]
    }
   ],
   "metadata": {}
  },
  {
   "cell_type": "code",
   "execution_count": 596,
   "source": [
    "# Instead of try/finally to cleanup resources you can use a with statement\n",
    "# to run with no error rise create a \"myfile.txt\" file in the execution path of the script.\n",
    "with open(\"myfile.txt\") as f:\n",
    "    for line in f:\n",
    "        print(line)\n",
    "# PyDoc: https://docs.python.org/3/library/functions.html#open"
   ],
   "outputs": [
    {
     "output_type": "stream",
     "name": "stdout",
     "text": [
      "line 0\n",
      "\n",
      "line 1\n",
      "\n",
      "line 2\n",
      "\n",
      "line 3\n",
      "\n"
     ]
    }
   ],
   "metadata": {}
  },
  {
   "cell_type": "code",
   "execution_count": 523,
   "source": [
    "# Writing to a file\n",
    "contents = {\"aa\": 12, \"bb\": 21}\n",
    "with open(\"myfile1.txt\", \"w+\") as file:\n",
    "    file.write(str(contents))  "
   ],
   "outputs": [],
   "metadata": {}
  },
  {
   "cell_type": "code",
   "execution_count": 524,
   "source": [
    "import json\n",
    "with open(\"myfile2.txt\", \"w+\") as file:\n",
    "    file.write(json.dumps(contents)) # writes an object to a file\n",
    "# PyDoc: https://docs.python.org/3/library/json.html"
   ],
   "outputs": [],
   "metadata": {}
  },
  {
   "cell_type": "code",
   "execution_count": 525,
   "source": [
    "# Reading from a file\n",
    "with open('myfile1.txt', \"r+\") as file:\n",
    "    contents = file.read()           # reads a string from a file\n",
    "print(contents)\n",
    "# print: {\"aa\": 12, \"bb\": 21}"
   ],
   "outputs": [
    {
     "output_type": "stream",
     "name": "stdout",
     "text": [
      "{'aa': 12, 'bb': 21}\n"
     ]
    }
   ],
   "metadata": {}
  },
  {
   "cell_type": "code",
   "execution_count": 526,
   "source": [
    "with open('myfile2.txt', \"r+\") as file:\n",
    "    contents = json.load(file)       # reads a json object from a file\n",
    "print(contents)\n",
    "print(type(contents))\n",
    "contents[\"aa\"]\n",
    "# print: {\"aa\": 12, \"bb\": 21}"
   ],
   "outputs": [
    {
     "output_type": "stream",
     "name": "stdout",
     "text": [
      "{'aa': 12, 'bb': 21}\n",
      "<class 'dict'>\n"
     ]
    },
    {
     "output_type": "execute_result",
     "data": {
      "text/plain": [
       "12"
      ]
     },
     "metadata": {},
     "execution_count": 526
    }
   ],
   "metadata": {}
  },
  {
   "cell_type": "code",
   "execution_count": 527,
   "source": [
    "# Python offers a fundamental abstraction called the Iterable.\n",
    "# An iterable is an object that can be treated as a sequence.\n",
    "# The object returned by the range function, is an iterable.\n",
    "\n",
    "filled_dict = {\"one\": 1, \"two\": 2, \"three\": 3}\n",
    "our_iterable = filled_dict.keys()\n",
    "print(our_iterable)  # => dict_keys(['one', 'two', 'three']). This is an object that implements our Iterable interface.\n",
    "\n",
    "# We can loop over it.\n",
    "for i in our_iterable:\n",
    "    print(i)  # Prints one, two, three"
   ],
   "outputs": [
    {
     "output_type": "stream",
     "name": "stdout",
     "text": [
      "dict_keys(['one', 'two', 'three'])\n",
      "one\n",
      "two\n",
      "three\n"
     ]
    }
   ],
   "metadata": {}
  },
  {
   "cell_type": "code",
   "execution_count": 528,
   "source": [
    "# However we cannot address elements by index.\n",
    "our_iterable[1]  # Raises a TypeError"
   ],
   "outputs": [
    {
     "output_type": "error",
     "ename": "TypeError",
     "evalue": "'dict_keys' object is not subscriptable",
     "traceback": [
      "\u001b[0;31m---------------------------------------------------------------------------\u001b[0m",
      "\u001b[0;31mTypeError\u001b[0m                                 Traceback (most recent call last)",
      "\u001b[0;32m<ipython-input-528-67296589dd53>\u001b[0m in \u001b[0;36m<module>\u001b[0;34m\u001b[0m\n\u001b[1;32m      1\u001b[0m \u001b[0;31m# However we cannot address elements by index.\u001b[0m\u001b[0;34m\u001b[0m\u001b[0;34m\u001b[0m\u001b[0;34m\u001b[0m\u001b[0m\n\u001b[0;32m----> 2\u001b[0;31m \u001b[0mour_iterable\u001b[0m\u001b[0;34m[\u001b[0m\u001b[0;36m1\u001b[0m\u001b[0;34m]\u001b[0m  \u001b[0;31m# Raises a TypeError\u001b[0m\u001b[0;34m\u001b[0m\u001b[0;34m\u001b[0m\u001b[0m\n\u001b[0m",
      "\u001b[0;31mTypeError\u001b[0m: 'dict_keys' object is not subscriptable"
     ]
    }
   ],
   "metadata": {}
  },
  {
   "cell_type": "code",
   "execution_count": 529,
   "source": [
    "# An iterable is an object that knows how to create an iterator.\n",
    "our_iterator = iter(our_iterable)"
   ],
   "outputs": [],
   "metadata": {}
  },
  {
   "cell_type": "code",
   "execution_count": 530,
   "source": [
    "# Our iterator is an object that can remember the state as we traverse through it.\n",
    "# We get the next object with \"next()\".\n",
    "next(our_iterator)  # => \"one\""
   ],
   "outputs": [
    {
     "output_type": "execute_result",
     "data": {
      "text/plain": [
       "'one'"
      ]
     },
     "metadata": {},
     "execution_count": 530
    }
   ],
   "metadata": {}
  },
  {
   "cell_type": "code",
   "execution_count": 531,
   "source": [
    "# It maintains state as we iterate.\n",
    "next(our_iterator)  # => \"two\"\n",
    "next(our_iterator)  # => \"three\"\n"
   ],
   "outputs": [
    {
     "output_type": "execute_result",
     "data": {
      "text/plain": [
       "'three'"
      ]
     },
     "metadata": {},
     "execution_count": 531
    }
   ],
   "metadata": {}
  },
  {
   "cell_type": "code",
   "execution_count": 532,
   "source": [
    "# After the iterator has returned all of its data, it raises a StopIteration exception\n",
    "next(our_iterator)  # Raises StopIteration"
   ],
   "outputs": [
    {
     "output_type": "error",
     "ename": "StopIteration",
     "evalue": "",
     "traceback": [
      "\u001b[0;31m---------------------------------------------------------------------------\u001b[0m",
      "\u001b[0;31mStopIteration\u001b[0m                             Traceback (most recent call last)",
      "\u001b[0;32m<ipython-input-532-dd3baf5a73d1>\u001b[0m in \u001b[0;36m<module>\u001b[0;34m\u001b[0m\n\u001b[1;32m      1\u001b[0m \u001b[0;31m# After the iterator has returned all of its data, it raises a StopIteration exception\u001b[0m\u001b[0;34m\u001b[0m\u001b[0;34m\u001b[0m\u001b[0;34m\u001b[0m\u001b[0m\n\u001b[0;32m----> 2\u001b[0;31m \u001b[0mnext\u001b[0m\u001b[0;34m(\u001b[0m\u001b[0mour_iterator\u001b[0m\u001b[0;34m)\u001b[0m  \u001b[0;31m# Raises StopIteration\u001b[0m\u001b[0;34m\u001b[0m\u001b[0;34m\u001b[0m\u001b[0m\n\u001b[0m",
      "\u001b[0;31mStopIteration\u001b[0m: "
     ]
    }
   ],
   "metadata": {}
  },
  {
   "cell_type": "code",
   "execution_count": 545,
   "source": [
    "# We can also loop over it, in fact, \"for\" does this implicitly!\n",
    "our_iterator = iter(our_iterable)\n",
    "for i in our_iterator:\n",
    "    print(i)  # Prints one, two, three"
   ],
   "outputs": [
    {
     "output_type": "stream",
     "name": "stdout",
     "text": [
      "one\n",
      "two\n",
      "three\n"
     ]
    }
   ],
   "metadata": {}
  },
  {
   "cell_type": "code",
   "execution_count": 546,
   "source": [
    "# You can grab all the elements of an iterable or iterator by calling list() on it.\n",
    "list(our_iterable)  # => Returns [\"one\", \"two\", \"three\"]\n",
    "list(our_iterator)  # => Returns [] because state is saved"
   ],
   "outputs": [
    {
     "output_type": "execute_result",
     "data": {
      "text/plain": [
       "[]"
      ]
     },
     "metadata": {},
     "execution_count": 546
    }
   ],
   "metadata": {}
  },
  {
   "cell_type": "markdown",
   "source": [
    "### \\#4 Functions"
   ],
   "metadata": {}
  },
  {
   "cell_type": "code",
   "execution_count": 547,
   "source": [
    "# Use \"def\" to create new functions\n",
    "def add(x, y):\n",
    "    print(\"x is {} and y is {}\".format(x, y))\n",
    "    return x + y  # Return values with a return statement"
   ],
   "outputs": [],
   "metadata": {}
  },
  {
   "cell_type": "code",
   "execution_count": 548,
   "source": [
    "# Calling functions with parameters\n",
    "add(5, 6)  # => prints out \"x is 5 and y is 6\" and returns 11"
   ],
   "outputs": [
    {
     "output_type": "stream",
     "name": "stdout",
     "text": [
      "x is 5 and y is 6\n"
     ]
    },
    {
     "output_type": "execute_result",
     "data": {
      "text/plain": [
       "11"
      ]
     },
     "metadata": {},
     "execution_count": 548
    }
   ],
   "metadata": {}
  },
  {
   "cell_type": "code",
   "execution_count": 549,
   "source": [
    "# Another way to call functions is with keyword arguments\n",
    "add(y=6, x=5)  # Keyword arguments can arrive in any order."
   ],
   "outputs": [
    {
     "output_type": "stream",
     "name": "stdout",
     "text": [
      "x is 5 and y is 6\n"
     ]
    },
    {
     "output_type": "execute_result",
     "data": {
      "text/plain": [
       "11"
      ]
     },
     "metadata": {},
     "execution_count": 549
    }
   ],
   "metadata": {}
  },
  {
   "cell_type": "code",
   "execution_count": 550,
   "source": [
    "# You can define functions that take a variable number of\n",
    "# positional arguments\n",
    "def varargs(*args):\n",
    "    return args"
   ],
   "outputs": [],
   "metadata": {}
  },
  {
   "cell_type": "code",
   "execution_count": 551,
   "source": [
    "varargs(1, 2, 3)  # => (1, 2, 3)"
   ],
   "outputs": [
    {
     "output_type": "execute_result",
     "data": {
      "text/plain": [
       "(1, 2, 3)"
      ]
     },
     "metadata": {},
     "execution_count": 551
    }
   ],
   "metadata": {}
  },
  {
   "cell_type": "code",
   "execution_count": 552,
   "source": [
    "# You can define functions that take a variable number of\n",
    "# keyword arguments, as well\n",
    "def keyword_args(**kwargs):\n",
    "    return kwargs\n",
    "\n",
    "keyword_args(a=1,b=2)"
   ],
   "outputs": [
    {
     "output_type": "execute_result",
     "data": {
      "text/plain": [
       "{'a': 1, 'b': 2}"
      ]
     },
     "metadata": {},
     "execution_count": 552
    }
   ],
   "metadata": {}
  },
  {
   "cell_type": "code",
   "execution_count": 553,
   "source": [
    "# Let's call it to see what happens\n",
    "keyword_args(big=\"foot\", loch=\"ness\")  # => {\"big\": \"foot\", \"loch\": \"ness\"}"
   ],
   "outputs": [
    {
     "output_type": "execute_result",
     "data": {
      "text/plain": [
       "{'big': 'foot', 'loch': 'ness'}"
      ]
     },
     "metadata": {},
     "execution_count": 553
    }
   ],
   "metadata": {}
  },
  {
   "cell_type": "code",
   "execution_count": 554,
   "source": [
    "# You can do both at once, if you like\n",
    "def all_the_args(*args, **kwargs):\n",
    "    print(args)\n",
    "    print(kwargs)\n",
    "    \n",
    "all_the_args(1,2,4,c=1,d=4)"
   ],
   "outputs": [
    {
     "output_type": "stream",
     "name": "stdout",
     "text": [
      "(1, 2, 4)\n",
      "{'c': 1, 'd': 4}\n"
     ]
    }
   ],
   "metadata": {}
  },
  {
   "cell_type": "code",
   "execution_count": 555,
   "source": [
    "# When calling functions, you can do the opposite of args/kwargs!\n",
    "# Use * to expand tuples and use ** to expand kwargs.\n",
    "args = (1, 2, 3, 4)\n",
    "kwargs = {\"a\": 3, \"b\": 4}\n",
    "all_the_args(*args)            # equivalent to all_the_args(1, 2, 3, 4)\n",
    "all_the_args(**kwargs)         # equivalent to all_the_args(a=3, b=4)\n",
    "all_the_args(*args, **kwargs)  # equivalent to all_the_args(1, 2, 3, 4, a=3, b=4)"
   ],
   "outputs": [
    {
     "output_type": "stream",
     "name": "stdout",
     "text": [
      "(1, 2, 3, 4)\n",
      "{}\n",
      "()\n",
      "{'a': 3, 'b': 4}\n",
      "(1, 2, 3, 4)\n",
      "{'a': 3, 'b': 4}\n"
     ]
    }
   ],
   "metadata": {}
  },
  {
   "cell_type": "code",
   "execution_count": 556,
   "source": [
    "# Returning multiple values (with tuple assignments)\n",
    "def swap(x, y):\n",
    "    return y, x  # Return multiple values as a tuple without the parenthesis.\n",
    "                 # (Note: parenthesis have been excluded but can be included)"
   ],
   "outputs": [],
   "metadata": {}
  },
  {
   "cell_type": "code",
   "execution_count": 557,
   "source": [
    "x = 1\n",
    "y = 2\n",
    "x, y = swap(x, y)     # => x = 2, y = 1\n",
    "# (x, y) = swap(x,y)  # Again parenthesis have been excluded but can be included."
   ],
   "outputs": [],
   "metadata": {}
  },
  {
   "cell_type": "code",
   "execution_count": 558,
   "source": [
    "# Function Scope\n",
    "x = 5\n",
    "\n",
    "def set_x(num):\n",
    "    # Local var x not the same as global variable x\n",
    "    x = num    # => 43\n",
    "    print(x)   # => 43"
   ],
   "outputs": [],
   "metadata": {}
  },
  {
   "cell_type": "code",
   "execution_count": 559,
   "source": [
    "def set_global_x(num):\n",
    "    global x\n",
    "    print(x)   # => 5\n",
    "    x = num    # global var x is now set to 6\n",
    "    print(x)   # => 6"
   ],
   "outputs": [],
   "metadata": {}
  },
  {
   "cell_type": "code",
   "execution_count": 560,
   "source": [
    "set_x(43)\n",
    "set_global_x(6)"
   ],
   "outputs": [
    {
     "output_type": "stream",
     "name": "stdout",
     "text": [
      "43\n",
      "5\n",
      "6\n"
     ]
    }
   ],
   "metadata": {}
  },
  {
   "cell_type": "code",
   "execution_count": 561,
   "source": [
    "# Python has first class functions\n",
    "def create_adder(x):\n",
    "    def adder(y):\n",
    "        return x + y\n",
    "    return adder"
   ],
   "outputs": [],
   "metadata": {}
  },
  {
   "cell_type": "code",
   "execution_count": 562,
   "source": [
    "add_10 = create_adder(10)\n",
    "add_10(3)   # => 13"
   ],
   "outputs": [
    {
     "output_type": "execute_result",
     "data": {
      "text/plain": [
       "13"
      ]
     },
     "metadata": {},
     "execution_count": 562
    }
   ],
   "metadata": {}
  },
  {
   "cell_type": "code",
   "execution_count": 563,
   "source": [
    "# There are also anonymous functions\n",
    "(lambda x: x > 2)(3)                  # => True\n",
    "(lambda x, y: x ** 2 + y ** 2)(2, 1)  # => 5\n",
    "# PyDoc: https://docs.python.org/3/tutorial/controlflow.html?highlight=lambda#lambda-expressions"
   ],
   "outputs": [
    {
     "output_type": "execute_result",
     "data": {
      "text/plain": [
       "5"
      ]
     },
     "metadata": {},
     "execution_count": 563
    }
   ],
   "metadata": {}
  },
  {
   "cell_type": "code",
   "execution_count": 598,
   "source": [
    "# There are built-in higher order functions\n",
    "# Pydoc: https://docs.python.org/3/library/functions.html#map\n",
    "list(map(add_10, [1, 2, 3]))          # => [11, 12, 13]\n",
    "list(map(max, [1, 2, 3], [4, 2, 1]))  # => [4, 2, 3]\n",
    "\n",
    "list(filter(lambda x: x > 5, [3, 4, 5, 6, 7]))  # => [6, 7]\n",
    "# PyDoc: https://docs.python.org/3/library/functions.html#filter"
   ],
   "outputs": [
    {
     "output_type": "execute_result",
     "data": {
      "text/plain": [
       "[6, 7]"
      ]
     },
     "metadata": {},
     "execution_count": 598
    }
   ],
   "metadata": {}
  },
  {
   "cell_type": "code",
   "execution_count": 565,
   "source": [
    "# We can use list comprehensions for nice maps and filters\n",
    "# List comprehension stores the output as a list which can itself be a nested list\n",
    "[add_10(i) for i in [1, 2, 3]]         # => [11, 12, 13]\n",
    "[x for x in [3, 4, 5, 6, 7] if x > 5]  # => [6, 7]\n",
    "# PyDoc: https://docs.python.org/3/tutorial/datastructures.html#list-comprehensions"
   ],
   "outputs": [
    {
     "output_type": "execute_result",
     "data": {
      "text/plain": [
       "[6, 7]"
      ]
     },
     "metadata": {},
     "execution_count": 565
    }
   ],
   "metadata": {}
  },
  {
   "cell_type": "code",
   "execution_count": 566,
   "source": [
    "# You can construct set and dict comprehensions as well.\n",
    "{x for x in 'abcddeef' if x not in 'abc'}  # => {'d', 'e', 'f'}\n",
    "{x: x**2 for x in range(5)}  # => {0: 0, 1: 1, 2: 4, 3: 9, 4: 16}"
   ],
   "outputs": [
    {
     "output_type": "execute_result",
     "data": {
      "text/plain": [
       "{0: 0, 1: 1, 2: 4, 3: 9, 4: 16}"
      ]
     },
     "metadata": {},
     "execution_count": 566
    }
   ],
   "metadata": {}
  },
  {
   "cell_type": "markdown",
   "source": [
    "### \\# 5 Modules"
   ],
   "metadata": {}
  },
  {
   "cell_type": "code",
   "execution_count": 567,
   "source": [
    "# You can import modules\n",
    "import math\n",
    "print(math.sqrt(16))  # => 4.0"
   ],
   "outputs": [
    {
     "output_type": "stream",
     "name": "stdout",
     "text": [
      "4.0\n"
     ]
    }
   ],
   "metadata": {}
  },
  {
   "cell_type": "code",
   "execution_count": 568,
   "source": [
    "# You can get specific functions from a module\n",
    "from math import ceil, floor\n",
    "print(ceil(3.7))   # => 4.0\n",
    "print(floor(3.7))  # => 3.0"
   ],
   "outputs": [
    {
     "output_type": "stream",
     "name": "stdout",
     "text": [
      "4\n",
      "3\n"
     ]
    }
   ],
   "metadata": {}
  },
  {
   "cell_type": "code",
   "execution_count": 569,
   "source": [
    "from math import *"
   ],
   "outputs": [],
   "metadata": {}
  },
  {
   "cell_type": "code",
   "execution_count": 570,
   "source": [
    "print(ceil(3.7))   # => 4.0\n",
    "print(exp(3.7))  # => 3.0"
   ],
   "outputs": [
    {
     "output_type": "stream",
     "name": "stdout",
     "text": [
      "4\n",
      "40.4473043600674\n"
     ]
    }
   ],
   "metadata": {}
  },
  {
   "cell_type": "code",
   "execution_count": 571,
   "source": [
    "# You can shorten module names\n",
    "import math as m\n",
    "math.sqrt(16) == m.sqrt(16)  # => True"
   ],
   "outputs": [
    {
     "output_type": "execute_result",
     "data": {
      "text/plain": [
       "True"
      ]
     },
     "metadata": {},
     "execution_count": 571
    }
   ],
   "metadata": {}
  },
  {
   "cell_type": "code",
   "execution_count": 601,
   "source": [
    "# Python modules are just ordinary Python files. You\n",
    "# can write your own, and import them. The name of the\n",
    "# module is the same as the name of the file.\n",
    "\n",
    "# You can find out which functions and attributes\n",
    "# are defined in a module.\n",
    "import math\n",
    "dir(math)\n",
    "# If you have a Python script named math.py in the same\n",
    "# folder as your current script, the file math.py will\n",
    "# be loaded instead of the built-in Python module.\n",
    "# This happens because the local folder has priority\n",
    "# over Python's built-in libraries."
   ],
   "outputs": [
    {
     "output_type": "execute_result",
     "data": {
      "text/plain": [
       "['__doc__',\n",
       " '__file__',\n",
       " '__loader__',\n",
       " '__name__',\n",
       " '__package__',\n",
       " '__spec__',\n",
       " 'acos',\n",
       " 'acosh',\n",
       " 'asin',\n",
       " 'asinh',\n",
       " 'atan',\n",
       " 'atan2',\n",
       " 'atanh',\n",
       " 'ceil',\n",
       " 'comb',\n",
       " 'copysign',\n",
       " 'cos',\n",
       " 'cosh',\n",
       " 'degrees',\n",
       " 'dist',\n",
       " 'e',\n",
       " 'erf',\n",
       " 'erfc',\n",
       " 'exp',\n",
       " 'expm1',\n",
       " 'fabs',\n",
       " 'factorial',\n",
       " 'floor',\n",
       " 'fmod',\n",
       " 'frexp',\n",
       " 'fsum',\n",
       " 'gamma',\n",
       " 'gcd',\n",
       " 'hypot',\n",
       " 'inf',\n",
       " 'isclose',\n",
       " 'isfinite',\n",
       " 'isinf',\n",
       " 'isnan',\n",
       " 'isqrt',\n",
       " 'ldexp',\n",
       " 'lgamma',\n",
       " 'log',\n",
       " 'log10',\n",
       " 'log1p',\n",
       " 'log2',\n",
       " 'modf',\n",
       " 'nan',\n",
       " 'perm',\n",
       " 'pi',\n",
       " 'pow',\n",
       " 'prod',\n",
       " 'radians',\n",
       " 'remainder',\n",
       " 'sin',\n",
       " 'sinh',\n",
       " 'sqrt',\n",
       " 'tan',\n",
       " 'tanh',\n",
       " 'tau',\n",
       " 'trunc']"
      ]
     },
     "metadata": {},
     "execution_count": 601
    }
   ],
   "metadata": {}
  },
  {
   "cell_type": "markdown",
   "source": [
    "### \\# 6 Classes"
   ],
   "metadata": {}
  },
  {
   "cell_type": "code",
   "execution_count": 572,
   "source": [
    "# We use the \"class\" statement to create a class\n",
    "class Human:\n",
    "\n",
    "    # A class attribute. It is shared by all instances of this class\n",
    "    species = \"H. sapiens\"\n",
    "\n",
    "    # Basic initializer, this is called when this class is instantiated.\n",
    "    # Note that the double leading and trailing underscores denote objects\n",
    "    # or attributes that are used by Python but that live in user-controlled\n",
    "    # namespaces. Methods(or objects or attributes) like: __init__, __str__,\n",
    "    # __repr__ etc. are called special methods (or sometimes called dunder methods)\n",
    "    # You should not invent such names on your own.\n",
    "    def __init__(self, name):\n",
    "        # Assign the argument to the instance's name attribute\n",
    "        self.name = name\n",
    "\n",
    "        # Initialize property\n",
    "        self._age = 0\n",
    "\n",
    "    # An instance method. All methods take \"self\" as the first argument\n",
    "    def say(self, msg):\n",
    "        print(\"{name}: {message}\".format(name=self.name, message=msg))\n",
    "\n",
    "    # Another instance method\n",
    "    def sing(self):\n",
    "        return 'yo... yo... microphone check... one two... one two...'\n",
    "\n",
    "    # A class method is shared among all instances\n",
    "    # They are called with the calling class as the first argument\n",
    "    @classmethod\n",
    "    def get_species(cls):\n",
    "        return cls.species\n",
    "\n",
    "    # A static method is called without a class or instance reference\n",
    "    @staticmethod\n",
    "    def grunt():\n",
    "        return \"*grunt*\"\n",
    "\n",
    "    # A property is just like a getter.\n",
    "    # It turns the method age() into a read-only attribute of the same name.\n",
    "    # There's no need to write trivial getters and setters in Python, though.\n",
    "    @property\n",
    "    def age(self):\n",
    "        return self._age\n",
    "\n",
    "    # This allows the property to be set\n",
    "    @age.setter\n",
    "    def age(self, age):\n",
    "        self._age = age\n",
    "\n",
    "    # This allows the property to be deleted\n",
    "    @age.deleter\n",
    "    def age(self):\n",
    "        del self._age"
   ],
   "outputs": [],
   "metadata": {}
  },
  {
   "cell_type": "code",
   "execution_count": 573,
   "source": [
    "# When a Python interpreter reads a source file it executes all its code.\n",
    "# This __name__ check makes sure this code block is only executed when this\n",
    "# module is the main program.\n",
    "if __name__ == '__main__':\n",
    "    # Instantiate a class\n",
    "    i = Human(name=\"Ian\")\n",
    "    i.say(\"hi\")                     # \"Ian: hi\"\n",
    "    j = Human(\"Joel\")\n",
    "    j.say(\"hello\")                  # \"Joel: hello\"\n",
    "    # i and j are instances of type Human, or in other words: they are Human objects\n",
    "\n",
    "    # Call our class method\n",
    "    i.say(i.get_species())          # \"Ian: H. sapiens\"\n",
    "    # Change the shared attribute\n",
    "    Human.species = \"H. neanderthalensis\"\n",
    "    i.say(i.get_species())          # => \"Ian: H. neanderthalensis\"\n",
    "    j.say(j.get_species())          # => \"Joel: H. neanderthalensis\"\n",
    "\n",
    "    # Call the static method\n",
    "    print(Human.grunt())            # => \"*grunt*\"\n",
    "\n",
    "    # Static methods can be called by instances too\n",
    "    print(i.grunt())                # => \"*grunt*\"\n",
    "\n",
    "    # Update the property for this instance\n",
    "    i.age = 42\n",
    "    # Get the property\n",
    "    i.say(i.age)                    # => \"Ian: 42\"\n",
    "    j.say(j.age)                    # => \"Joel: 0\"\n",
    "    # Delete the property\n",
    "    del i.age\n",
    "    # i.age                         # => this would raise an AttributeError"
   ],
   "outputs": [
    {
     "output_type": "stream",
     "name": "stdout",
     "text": [
      "Ian: hi\n",
      "Joel: hello\n",
      "Ian: H. sapiens\n",
      "Ian: H. neanderthalensis\n",
      "Joel: H. neanderthalensis\n",
      "*grunt*\n",
      "*grunt*\n",
      "Ian: 42\n",
      "Joel: 0\n"
     ]
    }
   ],
   "metadata": {}
  },
  {
   "cell_type": "markdown",
   "source": [
    "#### \\#6.1 Inheritance"
   ],
   "metadata": {}
  },
  {
   "cell_type": "code",
   "execution_count": 574,
   "source": [
    "\n",
    "# Specify the parent class(es) as parameters to the class definition\n",
    "class Superhero(Human):\n",
    "\n",
    "    # If the child class should inherit all of the parent's definitions without\n",
    "    # any modifications, you can just use the \"pass\" keyword (and nothing else)\n",
    "    # but in this case it is commented out to allow for a unique child class:\n",
    "    # pass\n",
    "\n",
    "    # Child classes can override their parents' attributes\n",
    "    species = 'Superhuman'\n",
    "\n",
    "    # Children automatically inherit their parent class's constructor including\n",
    "    # its arguments, but can also define additional arguments or definitions\n",
    "    # and override its methods such as the class constructor.\n",
    "    # This constructor inherits the \"name\" argument from the \"Human\" class and\n",
    "    # adds the \"superpower\" and \"movie\" arguments:\n",
    "    def __init__(self, name, movie=False,\n",
    "                 superpowers=[\"super strength\", \"bulletproofing\"]):\n",
    "\n",
    "        # add additional class attributes:\n",
    "        self.fictional = True\n",
    "        self.movie = movie\n",
    "        # be aware of mutable default values, since defaults are shared\n",
    "        self.superpowers = superpowers\n",
    "\n",
    "        # The \"super\" function lets you access the parent class's methods\n",
    "        # that are overridden by the child, in this case, the __init__ method.\n",
    "        # This calls the parent class constructor:\n",
    "        super().__init__(name)\n",
    "\n",
    "    # override the sing method\n",
    "    def sing(self):\n",
    "        return 'Dun, dun, DUN!'\n",
    "\n",
    "    # add an additional instance method\n",
    "    def boast(self):\n",
    "        for power in self.superpowers:\n",
    "            print(\"I wield the power of {pow}!\".format(pow=power))\n"
   ],
   "outputs": [],
   "metadata": {}
  },
  {
   "cell_type": "code",
   "execution_count": 575,
   "source": [
    "if __name__ == '__main__':\n",
    "    sup = Superhero(name=\"Tick\")\n",
    "\n",
    "    # Instance type checks\n",
    "    if isinstance(sup, Human):\n",
    "        print('I am human')\n",
    "    if type(sup) is Superhero:\n",
    "        print('I am a superhero')\n",
    "\n",
    "    # Get the Method Resolution search Order used by both getattr() and super()\n",
    "    # This attribute is dynamic and can be updated\n",
    "    print(Superhero.__mro__)    # => (<class '__main__.Superhero'>,\n",
    "                                # => <class 'human.Human'>, <class 'object'>)\n",
    "\n",
    "    # Calls parent method but uses its own class attribute\n",
    "    print(sup.get_species())    # => Superhuman\n",
    "\n",
    "    # Calls overridden method\n",
    "    print(sup.sing())           # => Dun, dun, DUN!\n",
    "\n",
    "    # Calls method from Human\n",
    "    sup.say('Spoon')            # => Tick: Spoon\n",
    "\n",
    "    # Call method that exists only in Superhero\n",
    "    sup.boast()                 # => I wield the power of super strength!\n",
    "                                # => I wield the power of bulletproofing!\n",
    "\n",
    "    # Inherited class attribute\n",
    "    sup.age = 31\n",
    "    print(sup.age)              # => 31\n",
    "\n",
    "    # Attribute that only exists within Superhero\n",
    "    print('Am I Oscar eligible? ' + str(sup.movie))"
   ],
   "outputs": [
    {
     "output_type": "stream",
     "name": "stdout",
     "text": [
      "I am human\n",
      "I am a superhero\n",
      "(<class '__main__.Superhero'>, <class '__main__.Human'>, <class 'object'>)\n",
      "Superhuman\n",
      "Dun, dun, DUN!\n",
      "Tick: Spoon\n",
      "I wield the power of super strength!\n",
      "I wield the power of bulletproofing!\n",
      "31\n",
      "Am I Oscar eligible? False\n"
     ]
    }
   ],
   "metadata": {}
  },
  {
   "cell_type": "markdown",
   "source": [
    "#### \\#6.2 Multiple Inheritance"
   ],
   "metadata": {}
  },
  {
   "cell_type": "code",
   "execution_count": 576,
   "source": [
    "# Another class definition\n",
    "# bat.py\n",
    "class Bat:\n",
    "\n",
    "    species = 'Baty'\n",
    "\n",
    "    def __init__(self, can_fly=True):\n",
    "        self.fly = can_fly\n",
    "\n",
    "    # This class also has a say method\n",
    "    def say(self, msg):\n",
    "        msg = '... ... ...'\n",
    "        return msg\n",
    "\n",
    "    # And its own method as well\n",
    "    def sonar(self):\n",
    "        return '))) ... ((('"
   ],
   "outputs": [],
   "metadata": {}
  },
  {
   "cell_type": "code",
   "execution_count": 577,
   "source": [
    "if __name__ == '__main__':\n",
    "    b = Bat()\n",
    "    print(b.say('hello'))\n",
    "    print(b.fly)"
   ],
   "outputs": [
    {
     "output_type": "stream",
     "name": "stdout",
     "text": [
      "... ... ...\n",
      "True\n"
     ]
    }
   ],
   "metadata": {}
  },
  {
   "cell_type": "code",
   "execution_count": 578,
   "source": [
    "# Define Batman as a child that inherits from both Superhero and Bat\n",
    "class Batman(Superhero, Bat):\n",
    "\n",
    "    def __init__(self, *args, **kwargs):\n",
    "        # Typically to inherit attributes you have to call super:\n",
    "        # super(Batman, self).__init__(*args, **kwargs)\n",
    "        # However we are dealing with multiple inheritance here, and super()\n",
    "        # only works with the next base class in the MRO list.\n",
    "        # So instead we explicitly call __init__ for all ancestors.\n",
    "        # The use of *args and **kwargs allows for a clean way to pass arguments,\n",
    "        # with each parent \"peeling a layer of the onion\".\n",
    "        Superhero.__init__(self, 'anonymous', movie=True,\n",
    "                           superpowers=['Wealthy'], *args, **kwargs)\n",
    "        Bat.__init__(self, *args, can_fly=False, **kwargs)\n",
    "        # override the value for the name attribute\n",
    "        self.name = 'Sad Affleck'\n",
    "\n",
    "    def sing(self):\n",
    "        return 'nan nan nan nan nan batman!'"
   ],
   "outputs": [],
   "metadata": {}
  },
  {
   "cell_type": "code",
   "execution_count": 579,
   "source": [
    "if __name__ == '__main__':\n",
    "    sup = Batman()\n",
    "\n",
    "    # Get the Method Resolution search Order used by both getattr() and super().\n",
    "    # This attribute is dynamic and can be updated\n",
    "    print(Batman.__mro__)       # => (<class '__main__.Batman'>,\n",
    "                                # => <class 'superhero.Superhero'>,\n",
    "                                # => <class 'human.Human'>,\n",
    "                                # => <class 'bat.Bat'>, <class 'object'>)\n",
    "\n",
    "    # Calls parent method but uses its own class attribute\n",
    "    print(sup.get_species())    # => Superhuman\n",
    "\n",
    "    # Calls overridden method\n",
    "    print(sup.sing())           # => nan nan nan nan nan batman!\n",
    "\n",
    "    # Calls method from Human, because inheritance order matters\n",
    "    sup.say('I agree')          # => Sad Affleck: I agree\n",
    "\n",
    "    # Call method that exists only in 2nd ancestor\n",
    "    print(sup.sonar())          # => ))) ... (((\n",
    "\n",
    "    # Inherited class attribute\n",
    "    sup.age = 100\n",
    "    print(sup.age)              # => 100\n",
    "\n",
    "    # Inherited attribute from 2nd ancestor whose default value was overridden.\n",
    "    print('Can I fly? ' + str(sup.fly)) # => Can I fly? False"
   ],
   "outputs": [
    {
     "output_type": "stream",
     "name": "stdout",
     "text": [
      "(<class '__main__.Batman'>, <class '__main__.Superhero'>, <class '__main__.Human'>, <class '__main__.Bat'>, <class 'object'>)\n",
      "Superhuman\n",
      "nan nan nan nan nan batman!\n",
      "Sad Affleck: I agree\n",
      "))) ... (((\n",
      "100\n",
      "Can I fly? False\n"
     ]
    }
   ],
   "metadata": {}
  },
  {
   "cell_type": "markdown",
   "source": [
    "### \\#7. Advanced"
   ],
   "metadata": {}
  },
  {
   "cell_type": "code",
   "execution_count": 580,
   "source": [
    "# Generators help you make lazy code.\n",
    "def double_numbers(iterable):\n",
    "    for i in iterable:\n",
    "        yield i + i\n",
    "\n",
    "# Generators are memory-efficient because they only load the data needed to\n",
    "# process the next value in the iterable. This allows them to perform\n",
    "# operations on otherwise prohibitively large value ranges.\n",
    "# NOTE: `range` replaces `xrange` in Python 3.\n",
    "for i in double_numbers(range(1, 900000000)):  # `range` is a generator.\n",
    "    print(i)\n",
    "    if i >= 30:\n",
    "        break\n",
    "\n",
    "# Just as you can create a list comprehension, you can create generator\n",
    "# comprehensions as well.\n",
    "values = (-x for x in [1,2,3,4,5])\n",
    "for x in values:\n",
    "    print(x)  # prints -1 -2 -3 -4 -5 to console/terminal\n",
    "\n",
    "# You can also cast a generator comprehension directly to a list.\n",
    "values = (-x for x in [1,2,3,4,5])\n",
    "gen_to_list = list(values)\n",
    "print(gen_to_list)  # => [-1, -2, -3, -4, -5]"
   ],
   "outputs": [
    {
     "output_type": "stream",
     "name": "stdout",
     "text": [
      "2\n",
      "4\n",
      "6\n",
      "8\n",
      "10\n",
      "12\n",
      "14\n",
      "16\n",
      "18\n",
      "20\n",
      "22\n",
      "24\n",
      "26\n",
      "28\n",
      "30\n",
      "-1\n",
      "-2\n",
      "-3\n",
      "-4\n",
      "-5\n",
      "[-1, -2, -3, -4, -5]\n"
     ]
    }
   ],
   "metadata": {}
  },
  {
   "cell_type": "code",
   "execution_count": 581,
   "source": [
    "# Decorators\n",
    "# In this example `beg` wraps `say`. If say_please is True then it\n",
    "# will change the returned message.\n",
    "from functools import wraps\n",
    "\n",
    "def beg(target_function):\n",
    "    @wraps(target_function)\n",
    "    def wrapper(*args, **kwargs):\n",
    "        msg, say_please = target_function(*args, **kwargs)\n",
    "        if say_please:\n",
    "            return \"{} {}\".format(msg, \"Please! I am poor :(\")\n",
    "        return msg\n",
    "\n",
    "    return wrapper\n",
    "\n",
    "\n",
    "@beg\n",
    "def say(say_please=False):\n",
    "    msg = \"Can you buy me a beer?\"\n",
    "    return msg, say_please\n",
    "\n",
    "\n",
    "print(say())                 # Can you buy me a beer?\n",
    "print(say(say_please=True))  # Can you buy me a beer? Please! I am poor :("
   ],
   "outputs": [
    {
     "output_type": "stream",
     "name": "stdout",
     "text": [
      "Can you buy me a beer?\n",
      "Can you buy me a beer? Please! I am poor :(\n"
     ]
    }
   ],
   "metadata": {}
  }
 ],
 "metadata": {
  "kernelspec": {
   "name": "python3",
   "display_name": "Python 3.8.8 64-bit ('base': conda)"
  },
  "language_info": {
   "codemirror_mode": {
    "name": "ipython",
    "version": 3
   },
   "file_extension": ".py",
   "mimetype": "text/x-python",
   "name": "python",
   "nbconvert_exporter": "python",
   "pygments_lexer": "ipython3",
   "version": "3.8.8"
  },
  "interpreter": {
   "hash": "f14e906f6c55070a077a89cc5717e48c6e6b165b8f84516754651fa338ccc864"
  }
 },
 "nbformat": 4,
 "nbformat_minor": 5
}